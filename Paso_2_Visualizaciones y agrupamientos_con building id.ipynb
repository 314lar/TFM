{
 "cells": [
  {
   "cell_type": "markdown",
   "metadata": {},
   "source": [
    "<font color=\"#CA3532\"><h1 align=\"left\">TFM: Evaluación de daños por terremotos.</h1></font>\n",
    "<font color=\"#CA3532\"><h3 align=\"left\">PASO 2: Visualizaciones y agrupación de categorías</h3></font>\n",
    "<font color=\"#6E6E6E\"><h3 align=\"right\">Pilar Campos López</h3></font> \n",
    "<font color=\"#6E6E6E\"><h3 align=\"right\">Silvia Saenz</h3></font> \n",
    "<font color=\"#6E6E6E\"><h3 align=\"right\">Ana de Antonio</h3></font> "
   ]
  },
  {
   "cell_type": "markdown",
   "metadata": {},
   "source": [
    "El objetivo de este notebook es realizar visualizaciones de las variables para tomar conciencia de sus distribuciones y agrupación de las categorías y así reducirlas."
   ]
  },
  {
   "cell_type": "markdown",
   "metadata": {},
   "source": [
    "# Importación de librerías y datos"
   ]
  },
  {
   "cell_type": "code",
   "execution_count": 1,
   "metadata": {},
   "outputs": [],
   "source": [
    "import pandas as pd\n",
    "import numpy as np\n",
    "import matplotlib.pyplot as plt\n",
    "import seaborn as sns\n",
    "import missingno as msno\n",
    "\n",
    "import warnings\n",
    "warnings.filterwarnings('ignore')\n",
    "\n",
    "pd.set_option (\"display.max_rows\", None)\n",
    "pd.set_option (\"display.max_columns\", None)\n",
    "pd.set_option (\"display.max_colwidth\",200)"
   ]
  },
  {
   "cell_type": "code",
   "execution_count": 2,
   "metadata": {},
   "outputs": [],
   "source": [
    "df=pd.read_csv(\"paso_1.csv\", sep=',')"
   ]
  },
  {
   "cell_type": "code",
   "execution_count": 3,
   "metadata": {},
   "outputs": [
    {
     "data": {
      "text/plain": [
       "Unnamed: 0                                  int64\n",
       "building_id                                 int64\n",
       "district_id                                 int64\n",
       "vdcmun_id                                   int64\n",
       "ward_id                                     int64\n",
       "count_floors_pre_eq                         int64\n",
       "age_building                                int64\n",
       "plinth_area_sq_ft                           int64\n",
       "height_ft_pre_eq                            int64\n",
       "land_surface_condition                     object\n",
       "foundation_type                            object\n",
       "roof_type                                  object\n",
       "ground_floor_type                          object\n",
       "other_floor_type                           object\n",
       "position                                   object\n",
       "plan_configuration                         object\n",
       "has_superstructure_adobe_mud                int64\n",
       "has_superstructure_mud_mortar_stone         int64\n",
       "has_superstructure_stone_flag               int64\n",
       "has_superstructure_cement_mortar_stone      int64\n",
       "has_superstructure_mud_mortar_brick         int64\n",
       "has_superstructure_cement_mortar_brick      int64\n",
       "has_superstructure_timber                   int64\n",
       "has_superstructure_bamboo                   int64\n",
       "has_superstructure_rc_non_engineered        int64\n",
       "has_superstructure_rc_engineered            int64\n",
       "has_superstructure_other                    int64\n",
       "damage_grade                               object\n",
       "legal_ownership_status                     object\n",
       "count_families                              int64\n",
       "has_secondary_use                           int64\n",
       "has_secondary_use_agriculture               int64\n",
       "has_secondary_use_hotel                     int64\n",
       "has_secondary_use_rental                    int64\n",
       "has_secondary_use_institution               int64\n",
       "has_secondary_use_school                    int64\n",
       "has_secondary_use_industry                  int64\n",
       "has_secondary_use_gov_office                int64\n",
       "has_secondary_use_use_police                int64\n",
       "has_secondary_use_other                     int64\n",
       "household_id                              float64\n",
       "gender_household_head                      object\n",
       "age_household_head                          int64\n",
       "caste_household                            object\n",
       "education_level_household_head             object\n",
       "income_level_household                     object\n",
       "size_household                              int64\n",
       "is_bank_account_present_in_household        int64\n",
       "dtype: object"
      ]
     },
     "execution_count": 3,
     "metadata": {},
     "output_type": "execute_result"
    }
   ],
   "source": [
    "df.dtypes"
   ]
  },
  {
   "cell_type": "code",
   "execution_count": 4,
   "metadata": {},
   "outputs": [],
   "source": [
    "df.drop([\"Unnamed: 0\", \"district_id\", \"vdcmun_id\", \"household_id\"], axis=1, inplace=True)"
   ]
  },
  {
   "cell_type": "markdown",
   "metadata": {},
   "source": [
    "# Balanceo de clases"
   ]
  },
  {
   "cell_type": "markdown",
   "metadata": {},
   "source": [
    "Tomamos conciencia de la clase a predecir"
   ]
  },
  {
   "cell_type": "code",
   "execution_count": 5,
   "metadata": {},
   "outputs": [
    {
     "data": {
      "image/png": "[encoded data removed]",
      "text/plain": [
       "<Figure size 432x288 with 1 Axes>"
      ]
     },
     "metadata": {
      "needs_background": "light"
     },
     "output_type": "display_data"
    },
    {
     "name": "stdout",
     "output_type": "stream",
     "text": [
      "Grade 5    36.363381\n",
      "Grade 4    24.100281\n",
      "Grade 3    17.764260\n",
      "Grade 2    11.407842\n",
      "Grade 1    10.364236\n",
      "Name: damage_grade, dtype: float64\n"
     ]
    }
   ],
   "source": [
    "df[\"damage_grade\"].value_counts().plot(kind='bar', title=\"damage_grade\")\n",
    "plt.show()\n",
    "print(100 * df['damage_grade'].value_counts() / len(df['damage_grade']))"
   ]
  },
  {
   "cell_type": "markdown",
   "metadata": {},
   "source": [
    "## Agrupamos las clases:"
   ]
  },
  {
   "cell_type": "code",
   "execution_count": 6,
   "metadata": {},
   "outputs": [
    {
     "data": {
      "image/png": "[encoded data removed]",
      "text/plain": [
       "<Figure size 432x288 with 1 Axes>"
      ]
     },
     "metadata": {
      "needs_background": "light"
     },
     "output_type": "display_data"
    },
    {
     "name": "stdout",
     "output_type": "stream",
     "text": [
      "High-Severe    60.463662\n",
      "Low-Medium     39.536338\n",
      "Name: damage_grade, dtype: float64\n"
     ]
    }
   ],
   "source": [
    "# Agrupamos los daños en:\n",
    "# Low-Medium: G1 + G2 + G3\n",
    "# High-Severe: G4 + G5\n",
    "\n",
    "\n",
    "df[\"damage_grade\"].replace([\"Grade 1\", \"Grade 2\", \"Grade 3\"], \"Low-Medium\", regex=True, inplace= True)\n",
    "df[\"damage_grade\"].replace([\"Grade 5\", \"Grade 4\"], \"High-Severe\", regex=True, inplace= True)\n",
    "\n",
    "\n",
    "df[\"damage_grade\"].value_counts().plot(kind='bar', title=\"damage_grade\")\n",
    "plt.show()\n",
    "print(100 * df['damage_grade'].value_counts() / len(df['damage_grade']))"
   ]
  },
  {
   "cell_type": "markdown",
   "metadata": {},
   "source": [
    "## Relaciónes con el target"
   ]
  },
  {
   "cell_type": "markdown",
   "metadata": {},
   "source": [
    "### Variables Categóricas"
   ]
  },
  {
   "cell_type": "markdown",
   "metadata": {},
   "source": [
    "### Land Surface Condition: agrupada"
   ]
  },
  {
   "cell_type": "code",
   "execution_count": 7,
   "metadata": {},
   "outputs": [
    {
     "data": {
      "image/png": "[encoded data removed]",
      "text/plain": [
       "<Figure size 432x288 with 1 Axes>"
      ]
     },
     "metadata": {
      "needs_background": "light"
     },
     "output_type": "display_data"
    },
    {
     "name": "stdout",
     "output_type": "stream",
     "text": [
      "Flat              83.066080\n",
      "Moderate slope    13.712349\n",
      "Steep slope        3.221571\n",
      "Name: land_surface_condition, dtype: float64\n",
      "\n",
      "damage_grade            High-Severe  Low-Medium\n",
      "land_surface_condition                         \n",
      "Flat                      82.575311   83.816624\n",
      "Moderate slope            13.974498   13.311440\n",
      "Steep slope                3.450192    2.871937\n",
      "\n"
     ]
    }
   ],
   "source": [
    "df[\"land_surface_condition\"].value_counts().plot(kind='bar', title=\"land_surface_condition\")\n",
    "plt.show()\n",
    "print(100 * df['land_surface_condition'].value_counts() / len(df['land_surface_condition']))\n",
    "print('')\n",
    "print(pd.crosstab(index=df[\"land_surface_condition\"], columns=df['damage_grade']\n",
    "    ).apply(lambda r: r/r.sum() *100,axis=0))\n",
    "print('')"
   ]
  },
  {
   "cell_type": "markdown",
   "metadata": {},
   "source": [
    "No se ve una relación directa de las categorías con el Target. los % son parecidos en todos los grados.\n",
    "Agrupamos 2 categorias en un \"No Flat\""
   ]
  },
  {
   "cell_type": "code",
   "execution_count": 8,
   "metadata": {},
   "outputs": [],
   "source": [
    "df[\"land_surface_condition\"].replace([\"Moderate slope\", \"Steep slope\"], \"No Flat\", regex=True, inplace= True)"
   ]
  },
  {
   "cell_type": "code",
   "execution_count": 9,
   "metadata": {},
   "outputs": [
    {
     "name": "stdout",
     "output_type": "stream",
     "text": [
      "Flat       83.06608\n",
      "No Flat    16.93392\n",
      "Name: land_surface_condition, dtype: float64\n",
      "\n",
      "damage_grade            High-Severe  Low-Medium\n",
      "land_surface_condition                         \n",
      "Flat                      82.575311   83.816624\n",
      "No Flat                   17.424689   16.183376\n"
     ]
    }
   ],
   "source": [
    "print(100 * df['land_surface_condition'].value_counts() / len(df['land_surface_condition']))\n",
    "print('')\n",
    "print(pd.crosstab(index=df[\"land_surface_condition\"], columns=df['damage_grade']\n",
    "    ).apply(lambda r: r/r.sum() *100,axis=0))"
   ]
  },
  {
   "cell_type": "markdown",
   "metadata": {},
   "source": [
    "### Foundation Type: agrupada"
   ]
  },
  {
   "cell_type": "code",
   "execution_count": 10,
   "metadata": {},
   "outputs": [
    {
     "data": {
      "image/png": "[encoded data removed]",
      "text/plain": [
       "<Figure size 432x288 with 1 Axes>"
      ]
     },
     "metadata": {
      "needs_background": "light"
     },
     "output_type": "display_data"
    },
    {
     "name": "stdout",
     "output_type": "stream",
     "text": [
      "Mud mortar-Stone/Brick    82.347746\n",
      "Bamboo/Timber              7.269696\n",
      "Cement-Stone/Brick         5.203371\n",
      "RC                         4.592158\n",
      "Other                      0.587028\n",
      "Name: foundation_type, dtype: float64\n",
      "\n",
      "damage_grade            High-Severe  Low-Medium\n",
      "foundation_type                                \n",
      "Bamboo/Timber              2.848595   14.030968\n",
      "Cement-Stone/Brick         2.521131    9.305372\n",
      "Mud mortar-Stone/Brick    93.866259   64.732270\n",
      "Other                      0.494731    0.728179\n",
      "RC                         0.269284   11.203211\n",
      "\n"
     ]
    },
    {
     "data": {
      "text/plain": [
       "<seaborn.axisgrid.FacetGrid at 0x1a2c858ac88>"
      ]
     },
     "execution_count": 10,
     "metadata": {},
     "output_type": "execute_result"
    },
    {
     "data": {
      "image/png": "[encoded data removed]",
      "text/plain": [
       "<Figure size 515.125x360 with 1 Axes>"
      ]
     },
     "metadata": {
      "needs_background": "light"
     },
     "output_type": "display_data"
    }
   ],
   "source": [
    "df[\"foundation_type\"].value_counts().plot(kind='bar', title=\"foundation_type\")\n",
    "plt.show()\n",
    "print(100 * df['foundation_type'].value_counts() / len(df['foundation_type']))\n",
    "print('')\n",
    "print(pd.crosstab(index=df[\"foundation_type\"], columns=df['damage_grade']\n",
    "    ).apply(lambda r: r/r.sum() *100,axis=0))\n",
    "print('')\n",
    "order = sorted(df[\"damage_grade\"].unique()) \n",
    "sns.catplot(x = \"damage_grade\", data = df, kind = \"count\", hue = \"foundation_type\", order=order)"
   ]
  },
  {
   "cell_type": "markdown",
   "metadata": {},
   "source": [
    "Si hay una relación con el tipo de grado. Grados bajos: RC, Bamboo y cement \n",
    "\n",
    "Agrupamos y dejamos solo 2 categorias"
   ]
  },
  {
   "cell_type": "code",
   "execution_count": 11,
   "metadata": {},
   "outputs": [],
   "source": [
    "df[\"foundation_type\"].replace([\"Bamboo/Timber\", \"Cement-Stone/Brick\",\"RC\", \"Other\"], \"others\", regex=True, inplace= True)"
   ]
  },
  {
   "cell_type": "code",
   "execution_count": 12,
   "metadata": {},
   "outputs": [
    {
     "name": "stdout",
     "output_type": "stream",
     "text": [
      "Mud mortar-Stone/Brick    82.347746\n",
      "others                    17.652254\n",
      "Name: foundation_type, dtype: float64\n",
      "\n",
      "damage_grade            High-Severe  Low-Medium\n",
      "foundation_type                                \n",
      "Mud mortar-Stone/Brick    93.866259    64.73227\n",
      "others                     6.133741    35.26773\n"
     ]
    }
   ],
   "source": [
    "print(100 * df['foundation_type'].value_counts() / len(df['foundation_type']))\n",
    "print('')\n",
    "print(pd.crosstab(index=df[\"foundation_type\"], columns=df['damage_grade']\n",
    "    ).apply(lambda r: r/r.sum() *100,axis=0))"
   ]
  },
  {
   "cell_type": "markdown",
   "metadata": {},
   "source": [
    "### Roof Type"
   ]
  },
  {
   "cell_type": "code",
   "execution_count": 13,
   "metadata": {},
   "outputs": [
    {
     "data": {
      "image/png": "[encoded data removed]",
      "text/plain": [
       "<Figure size 432x288 with 1 Axes>"
      ]
     },
     "metadata": {
      "needs_background": "light"
     },
     "output_type": "display_data"
    },
    {
     "name": "stdout",
     "output_type": "stream",
     "text": [
      "Bamboo/Timber-Light roof    65.343349\n",
      "Bamboo/Timber-Heavy roof    28.315867\n",
      "RCC/RB/RBC                   6.340784\n",
      "Name: roof_type, dtype: float64\n",
      "\n",
      "damage_grade              High-Severe  Low-Medium\n",
      "roof_type                                        \n",
      "Bamboo/Timber-Heavy roof    30.213771   25.413366\n",
      "Bamboo/Timber-Light roof    69.205036   59.437600\n",
      "RCC/RB/RBC                   0.581193   15.149034\n",
      "\n"
     ]
    },
    {
     "data": {
      "text/plain": [
       "<seaborn.axisgrid.FacetGrid at 0x1a2800d6a88>"
      ]
     },
     "execution_count": 13,
     "metadata": {},
     "output_type": "execute_result"
    },
    {
     "data": {
      "image/png": "[encoded data removed]",
      "text/plain": [
       "<Figure size 533.25x360 with 1 Axes>"
      ]
     },
     "metadata": {
      "needs_background": "light"
     },
     "output_type": "display_data"
    }
   ],
   "source": [
    "df[\"roof_type\"].value_counts().plot(kind='bar', title=\"roof_type\")\n",
    "plt.show()\n",
    "print(100 * df['roof_type'].value_counts() / len(df['roof_type']))\n",
    "print('')\n",
    "print(pd.crosstab(index=df[\"roof_type\"], columns=df['damage_grade']\n",
    "    ).apply(lambda r: r/r.sum() *100,axis=0))\n",
    "print('')\n",
    "order = sorted(df[\"damage_grade\"].unique()) \n",
    "sns.catplot(x = \"damage_grade\", data = df, kind = \"count\", hue = \"roof_type\", order=order)"
   ]
  },
  {
   "cell_type": "markdown",
   "metadata": {},
   "source": [
    "### Ground Floor Type: agrupada"
   ]
  },
  {
   "cell_type": "code",
   "execution_count": 14,
   "metadata": {},
   "outputs": [
    {
     "data": {
      "image/png": "[encoded data removed]",
      "text/plain": [
       "<Figure size 432x288 with 1 Axes>"
      ]
     },
     "metadata": {
      "needs_background": "light"
     },
     "output_type": "display_data"
    },
    {
     "name": "stdout",
     "output_type": "stream",
     "text": [
      "Mud            80.703921\n",
      "RC             10.028460\n",
      "Brick/Stone     8.679980\n",
      "Timber          0.451692\n",
      "Other           0.135947\n",
      "Name: ground_floor_type, dtype: float64\n",
      "\n",
      "damage_grade       High-Severe  Low-Medium\n",
      "ground_floor_type                         \n",
      "Brick/Stone           9.288387    7.749533\n",
      "Mud                  88.497948   68.784370\n",
      "Other                 0.068483    0.239122\n",
      "RC                    1.788629   22.629787\n",
      "Timber                0.356554    0.597187\n",
      "\n"
     ]
    },
    {
     "data": {
      "text/plain": [
       "<seaborn.axisgrid.FacetGrid at 0x1a28004e048>"
      ]
     },
     "execution_count": 14,
     "metadata": {},
     "output_type": "execute_result"
    },
    {
     "data": {
      "image/png": "[encoded data removed]",
      "text/plain": [
       "<Figure size 458.375x360 with 1 Axes>"
      ]
     },
     "metadata": {
      "needs_background": "light"
     },
     "output_type": "display_data"
    }
   ],
   "source": [
    "df[\"ground_floor_type\"].value_counts().plot(kind='bar', title=\"ground_floor_type\")\n",
    "plt.show()\n",
    "print(100 * df['ground_floor_type'].value_counts() / len(df['ground_floor_type']))\n",
    "print('')\n",
    "print(pd.crosstab(index=df[\"ground_floor_type\"], columns=df['damage_grade']\n",
    "    ).apply(lambda r: r/r.sum() *100,axis=0))\n",
    "print('')\n",
    "order = sorted(df[\"damage_grade\"].unique()) \n",
    "sns.catplot(x = \"damage_grade\", data = df, kind = \"count\", hue = \"ground_floor_type\", order=order)"
   ]
  },
  {
   "cell_type": "markdown",
   "metadata": {},
   "source": [
    "Si hay una relación. grados bajos, RC\n",
    "\n",
    "Dejamos 3 categorias"
   ]
  },
  {
   "cell_type": "code",
   "execution_count": 15,
   "metadata": {},
   "outputs": [],
   "source": [
    "df[\"ground_floor_type\"].replace([\"Timber\", \"Other\", \"Brick/Stone\"], \"others\", regex=True, inplace= True)"
   ]
  },
  {
   "cell_type": "code",
   "execution_count": 16,
   "metadata": {},
   "outputs": [
    {
     "name": "stdout",
     "output_type": "stream",
     "text": [
      "Mud       80.703921\n",
      "RC        10.028460\n",
      "others     9.267619\n",
      "Name: ground_floor_type, dtype: float64\n",
      "\n",
      "damage_grade       High-Severe  Low-Medium\n",
      "ground_floor_type                         \n",
      "Mud                  88.497948   68.784370\n",
      "RC                    1.788629   22.629787\n",
      "others                9.713423    8.585843\n"
     ]
    }
   ],
   "source": [
    "print(100 * df['ground_floor_type'].value_counts() / len(df['ground_floor_type']))\n",
    "print('')\n",
    "print(pd.crosstab(index=df[\"ground_floor_type\"], columns=df['damage_grade']\n",
    "    ).apply(lambda r: r/r.sum() *100,axis=0))"
   ]
  },
  {
   "cell_type": "markdown",
   "metadata": {},
   "source": [
    "### Other Floor Type: agrupada"
   ]
  },
  {
   "cell_type": "code",
   "execution_count": 17,
   "metadata": {},
   "outputs": [
    {
     "data": {
      "image/png": "[encoded data removed]",
      "text/plain": [
       "<Figure size 432x288 with 1 Axes>"
      ]
     },
     "metadata": {
      "needs_background": "light"
     },
     "output_type": "display_data"
    },
    {
     "name": "stdout",
     "output_type": "stream",
     "text": [
      "TImber/Bamboo-Mud    63.935263\n",
      "Timber-Planck        16.178942\n",
      "Not applicable       15.059118\n",
      "RCC/RB/RBC            4.826676\n",
      "Name: other_floor_type, dtype: float64\n",
      "\n",
      "damage_grade       High-Severe  Low-Medium\n",
      "other_floor_type                          \n",
      "Not applicable       10.219064   22.461104\n",
      "RCC/RB/RBC            0.612707   11.271178\n",
      "TImber/Bamboo-Mud    72.219080   51.266667\n",
      "Timber-Planck        16.949149   15.001050\n",
      "\n"
     ]
    },
    {
     "data": {
      "text/plain": [
       "<seaborn.axisgrid.FacetGrid at 0x1a280243e88>"
      ]
     },
     "execution_count": 17,
     "metadata": {},
     "output_type": "execute_result"
    },
    {
     "data": {
      "image/png": "[encoded data removed]",
      "text/plain": [
       "<Figure size 500.25x360 with 1 Axes>"
      ]
     },
     "metadata": {
      "needs_background": "light"
     },
     "output_type": "display_data"
    }
   ],
   "source": [
    "df[\"other_floor_type\"].value_counts().plot(kind='bar', title=\"other_floor_type\")\n",
    "plt.show()\n",
    "print(100 * df['other_floor_type'].value_counts() / len(df['other_floor_type']))\n",
    "print('')\n",
    "print(pd.crosstab(index=df[\"other_floor_type\"], columns=df['damage_grade']\n",
    "    ).apply(lambda r: r/r.sum() *100,axis=0))\n",
    "print('')\n",
    "order = sorted(df[\"damage_grade\"].unique()) \n",
    "sns.catplot(x = \"damage_grade\", data = df, kind = \"count\", hue = \"other_floor_type\", order=order)"
   ]
  },
  {
   "cell_type": "markdown",
   "metadata": {},
   "source": [
    "Si hay una relación. El los grados bajos, RC y Not applicable aparece más % que en Grados altos\n",
    "\n",
    "Dejamos 3 categorias"
   ]
  },
  {
   "cell_type": "code",
   "execution_count": 18,
   "metadata": {},
   "outputs": [],
   "source": [
    "df[\"other_floor_type\"].replace([\"TImber/Bamboo-Mud\", \"Timber-Planck\"], \"Timber\", regex=True, inplace= True)"
   ]
  },
  {
   "cell_type": "code",
   "execution_count": 19,
   "metadata": {},
   "outputs": [
    {
     "name": "stdout",
     "output_type": "stream",
     "text": [
      "Timber            80.114205\n",
      "Not applicable    15.059118\n",
      "RCC/RB/RBC         4.826676\n",
      "Name: other_floor_type, dtype: float64\n",
      "\n",
      "damage_grade      High-Severe  Low-Medium\n",
      "other_floor_type                         \n",
      "Not applicable      10.219064   22.461104\n",
      "RCC/RB/RBC           0.612707   11.271178\n",
      "Timber              89.168229   66.267718\n"
     ]
    }
   ],
   "source": [
    "print(100 * df['other_floor_type'].value_counts() / len(df['other_floor_type']))\n",
    "print('')\n",
    "print(pd.crosstab(index=df[\"other_floor_type\"], columns=df['damage_grade']\n",
    "    ).apply(lambda r: r/r.sum() *100,axis=0))"
   ]
  },
  {
   "cell_type": "markdown",
   "metadata": {},
   "source": [
    "### Position: agrupada"
   ]
  },
  {
   "cell_type": "code",
   "execution_count": 20,
   "metadata": {},
   "outputs": [
    {
     "data": {
      "image/png": "[encoded data removed]",
      "text/plain": [
       "<Figure size 432x288 with 1 Axes>"
      ]
     },
     "metadata": {
      "needs_background": "light"
     },
     "output_type": "display_data"
    },
    {
     "name": "stdout",
     "output_type": "stream",
     "text": [
      "Not attached       79.073775\n",
      "Attached-1 side    17.067302\n",
      "Attached-2 side     3.677904\n",
      "Attached-3 side     0.181019\n",
      "Name: position, dtype: float64\n",
      "\n",
      "damage_grade     High-Severe  Low-Medium\n",
      "position                                \n",
      "Attached-1 side    18.367689   15.078595\n",
      "Attached-2 side     2.841928    4.956377\n",
      "Attached-3 side     0.107067    0.294114\n",
      "Not attached       78.683315   79.670914\n",
      "\n"
     ]
    }
   ],
   "source": [
    "df[\"position\"].value_counts().plot(kind='bar', title=\"position\")\n",
    "plt.show()\n",
    "print(100 * df['position'].value_counts() / len(df['position']))\n",
    "print('')\n",
    "print(pd.crosstab(index=df[\"position\"], columns=df['damage_grade']\n",
    "    ).apply(lambda r: r/r.sum() *100,axis=0))\n",
    "print('')"
   ]
  },
  {
   "cell_type": "markdown",
   "metadata": {},
   "source": [
    "Se puede ver  ligeramente. Si está attached a los 2 lados, hay menos daños.\n",
    "\n",
    "Agrupamos 2+3 en >1"
   ]
  },
  {
   "cell_type": "code",
   "execution_count": 21,
   "metadata": {},
   "outputs": [],
   "source": [
    "df[\"position\"].replace([\"Attached-2 side\", \"Attached-3 side\"], \"Attached >1 side\", regex=True, inplace= True)"
   ]
  },
  {
   "cell_type": "code",
   "execution_count": 22,
   "metadata": {},
   "outputs": [
    {
     "name": "stdout",
     "output_type": "stream",
     "text": [
      "Not attached        79.073775\n",
      "Attached-1 side     17.067302\n",
      "Attached >1 side     3.858923\n",
      "Name: position, dtype: float64\n",
      "\n",
      "damage_grade      High-Severe  Low-Medium\n",
      "position                                 \n",
      "Attached >1 side     2.948996    5.250491\n",
      "Attached-1 side     18.367689   15.078595\n",
      "Not attached        78.683315   79.670914\n"
     ]
    }
   ],
   "source": [
    "print(100 * df['position'].value_counts() / len(df['position']))\n",
    "print('')\n",
    "print(pd.crosstab(index=df[\"position\"], columns=df['damage_grade']\n",
    "    ).apply(lambda r: r/r.sum() *100,axis=0))"
   ]
  },
  {
   "cell_type": "markdown",
   "metadata": {},
   "source": [
    "### Plan configuration: agrupada"
   ]
  },
  {
   "cell_type": "code",
   "execution_count": 23,
   "metadata": {},
   "outputs": [
    {
     "data": {
      "image/png": "[encoded data removed]",
      "text/plain": [
       "<Figure size 432x288 with 1 Axes>"
      ]
     },
     "metadata": {
      "needs_background": "light"
     },
     "output_type": "display_data"
    },
    {
     "name": "stdout",
     "output_type": "stream",
     "text": [
      "Rectangular                        95.899719\n",
      "Square                              2.273116\n",
      "L-shape                             1.386955\n",
      "Multi-projected                     0.130695\n",
      "T-shape                             0.128008\n",
      "Others                              0.069867\n",
      "U-shape                             0.066447\n",
      "E-shape                             0.019055\n",
      "Building with Central Courtyard     0.014535\n",
      "H-shape                             0.011604\n",
      "Name: plan_configuration, dtype: float64\n",
      "\n",
      "damage_grade                     High-Severe  Low-Medium\n",
      "plan_configuration                                      \n",
      "Building with Central Courtyard     0.003636    0.031203\n",
      "E-shape                             0.014747    0.025642\n",
      "H-shape                             0.008889    0.015756\n",
      "L-shape                             0.693311    2.447758\n",
      "Multi-projected                     0.047675    0.257659\n",
      "Others                              0.023636    0.140569\n",
      "Rectangular                        96.804548   94.515948\n",
      "Square                              2.289219    2.248489\n",
      "T-shape                             0.080199    0.201122\n",
      "U-shape                             0.034140    0.115854\n",
      "\n"
     ]
    }
   ],
   "source": [
    "df[\"plan_configuration\"].value_counts().plot(kind='bar', title=\"plan_configuration\")\n",
    "plt.show()\n",
    "print(100 * df['plan_configuration'].value_counts() / len(df['plan_configuration']))\n",
    "print('')\n",
    "print(pd.crosstab(index=df[\"plan_configuration\"], columns=df['damage_grade']\n",
    "    ).apply(lambda r: r/r.sum() *100,axis=0))\n",
    "print('')"
   ]
  },
  {
   "cell_type": "markdown",
   "metadata": {},
   "source": [
    "Los que están en L se puede ver más en los grados pequeños.\n",
    "\n",
    "Crear solo 2 categorías"
   ]
  },
  {
   "cell_type": "code",
   "execution_count": 24,
   "metadata": {},
   "outputs": [],
   "source": [
    "df[\"plan_configuration\"].replace(['Square',\n",
    " 'Multi-projected',\n",
    " 'T-shape',\n",
    " 'Others',\n",
    " 'U-shape',\n",
    " 'E-shape',\n",
    " 'Building with Central Courtyard',\n",
    " 'H-shape'], \"other\", regex=True, inplace= True)"
   ]
  },
  {
   "cell_type": "code",
   "execution_count": 25,
   "metadata": {},
   "outputs": [
    {
     "name": "stdout",
     "output_type": "stream",
     "text": [
      "Rectangular    95.899719\n",
      "other           2.713326\n",
      "L-shape         1.386955\n",
      "Name: plan_configuration, dtype: float64\n",
      "\n",
      "damage_grade        High-Severe  Low-Medium\n",
      "plan_configuration                         \n",
      "L-shape                0.693311    2.447758\n",
      "Rectangular           96.804548   94.515948\n",
      "other                  2.502141    3.036295\n"
     ]
    }
   ],
   "source": [
    "print(100 * df['plan_configuration'].value_counts() / len(df['plan_configuration']))\n",
    "print('')\n",
    "print(pd.crosstab(index=df[\"plan_configuration\"], columns=df['damage_grade']\n",
    "    ).apply(lambda r: r/r.sum() *100,axis=0))"
   ]
  },
  {
   "cell_type": "markdown",
   "metadata": {},
   "source": [
    "### Legal Ownership: agrupada"
   ]
  },
  {
   "cell_type": "code",
   "execution_count": 26,
   "metadata": {},
   "outputs": [
    {
     "data": {
      "image/png": "[encoded data removed]",
      "text/plain": [
       "<Figure size 432x288 with 1 Axes>"
      ]
     },
     "metadata": {
      "needs_background": "light"
     },
     "output_type": "display_data"
    },
    {
     "name": "stdout",
     "output_type": "stream",
     "text": [
      "Private          96.005252\n",
      "Public            2.455845\n",
      "Institutional     1.070966\n",
      "Other             0.467937\n",
      "Name: legal_ownership_status, dtype: float64\n",
      "\n",
      "damage_grade            High-Severe  Low-Medium\n",
      "legal_ownership_status                         \n",
      "Institutional              1.351673    0.641675\n",
      "Other                      0.415744    0.547756\n",
      "Private                   97.139486   94.270647\n",
      "Public                     1.093096    4.539922\n",
      "\n"
     ]
    }
   ],
   "source": [
    "df[\"legal_ownership_status\"].value_counts().plot(kind='bar', title=\"legal_ownership_status\")\n",
    "plt.show()\n",
    "print(100 * df['legal_ownership_status'].value_counts() / len(df['legal_ownership_status']))\n",
    "print('')\n",
    "print(pd.crosstab(index=df[\"legal_ownership_status\"], columns=df['damage_grade']\n",
    "    ).apply(lambda r: r/r.sum() *100,axis=0))\n",
    "print('')"
   ]
  },
  {
   "cell_type": "markdown",
   "metadata": {},
   "source": [
    "Los grados pequeños tiene más de Publico.\n",
    "\n",
    "Crear solo 2 categorías"
   ]
  },
  {
   "cell_type": "code",
   "execution_count": 27,
   "metadata": {},
   "outputs": [],
   "source": [
    "df[\"legal_ownership_status\"].replace([\"Public\", \"Institutional\", \"Other\"], \"No Private\", regex=True, inplace= True)"
   ]
  },
  {
   "cell_type": "code",
   "execution_count": 28,
   "metadata": {},
   "outputs": [
    {
     "name": "stdout",
     "output_type": "stream",
     "text": [
      "Private       96.005252\n",
      "No Private     3.994748\n",
      "Name: legal_ownership_status, dtype: float64\n",
      "\n",
      "damage_grade            High-Severe  Low-Medium\n",
      "legal_ownership_status                         \n",
      "No Private                 2.860514    5.729353\n",
      "Private                   97.139486   94.270647\n"
     ]
    }
   ],
   "source": [
    "print(100 * df['legal_ownership_status'].value_counts() / len(df['legal_ownership_status']))\n",
    "print('')\n",
    "print(pd.crosstab(index=df[\"legal_ownership_status\"], columns=df['damage_grade']\n",
    "    ).apply(lambda r: r/r.sum() *100,axis=0))"
   ]
  },
  {
   "cell_type": "markdown",
   "metadata": {},
   "source": [
    "### Gender Household head"
   ]
  },
  {
   "cell_type": "code",
   "execution_count": 29,
   "metadata": {},
   "outputs": [
    {
     "data": {
      "image/png": "[encoded data removed]",
      "text/plain": [
       "<Figure size 432x288 with 1 Axes>"
      ]
     },
     "metadata": {
      "needs_background": "light"
     },
     "output_type": "display_data"
    },
    {
     "name": "stdout",
     "output_type": "stream",
     "text": [
      "Male           62.017711\n",
      "Female         29.239648\n",
      "no_familias     8.742641\n",
      "Name: gender_household_head, dtype: float64\n",
      "\n",
      "damage_grade           High-Severe  Low-Medium\n",
      "gender_household_head                         \n",
      "Female                   26.590252   33.291420\n",
      "Male                     65.877063   56.115532\n",
      "no_familias               7.532686   10.593048\n",
      "\n"
     ]
    }
   ],
   "source": [
    "df[\"gender_household_head\"].value_counts().plot(kind='bar', title=\"gender_household_head\")\n",
    "plt.show()\n",
    "print(100 * df['gender_household_head'].value_counts() / len(df['gender_household_head']))\n",
    "print('')\n",
    "print(pd.crosstab(index=df[\"gender_household_head\"], columns=df['damage_grade']\n",
    "    ).apply(lambda r: r/r.sum() *100,axis=0))\n",
    "print('')"
   ]
  },
  {
   "cell_type": "markdown",
   "metadata": {},
   "source": [
    "Las familias con cabeza de familia Mujer, tienen menos daños, igual que las no familias "
   ]
  },
  {
   "cell_type": "markdown",
   "metadata": {},
   "source": [
    "### Education level: agrupada"
   ]
  },
  {
   "cell_type": "code",
   "execution_count": 30,
   "metadata": {},
   "outputs": [
    {
     "data": {
      "image/png": "[encoded data removed]",
      "text/plain": [
       "<Figure size 432x288 with 1 Axes>"
      ]
     },
     "metadata": {
      "needs_background": "light"
     },
     "output_type": "display_data"
    },
    {
     "name": "stdout",
     "output_type": "stream",
     "text": [
      "Illiterate                    32.142909\n",
      "Non-formal education          19.264932\n",
      "no_familias                    8.742641\n",
      "Class 5                        5.528643\n",
      "SLC or equivalent              5.250641\n",
      "Intermediate or equivalent     3.564309\n",
      "Class 4                        3.399902\n",
      "Class 8                        3.361427\n",
      "Class 3                        3.202150\n",
      "Class 10                       2.943325\n",
      "Class 2                        2.727617\n",
      "Class 7                        2.621229\n",
      "Class 6                        2.088433\n",
      "Class 9                        1.488213\n",
      "Bachelors or equivalent        1.334433\n",
      "Class 1                        1.220960\n",
      "Masters or equivalent          0.550507\n",
      "Other                          0.346647\n",
      "Nursery/K.G./Kindergarten      0.212654\n",
      "Ph.D. or equivalent            0.008428\n",
      "Name: education_level_household_head, dtype: float64\n",
      "\n",
      "damage_grade                    High-Severe  Low-Medium\n",
      "education_level_household_head                         \n",
      "Bachelors or equivalent            1.201375    1.537920\n",
      "Class 1                            1.208244    1.240407\n",
      "Class 10                           2.909401    2.995205\n",
      "Class 2                            2.703549    2.764425\n",
      "Class 3                            3.260501    3.112913\n",
      "Class 4                            3.388577    3.417222\n",
      "Class 5                            5.632949    5.369125\n",
      "Class 6                            2.082357    2.097725\n",
      "Class 7                            2.602340    2.650116\n",
      "Class 8                            3.320297    3.424327\n",
      "Class 9                            1.399551    1.623806\n",
      "Illiterate                        33.930822   29.408621\n",
      "Intermediate or equivalent         3.284742    3.991856\n",
      "Masters or equivalent              0.469480    0.674423\n",
      "Non-formal education              19.588256   18.770467\n",
      "Nursery/K.G./Kindergarten          0.183226    0.257659\n",
      "Other                              0.391300    0.278358\n",
      "Ph.D. or equivalent                0.008889    0.007724\n",
      "SLC or equivalent                  4.901458    5.784654\n",
      "no_familias                        7.532686   10.593048\n"
     ]
    }
   ],
   "source": [
    "df[\"education_level_household_head\"].value_counts().plot(kind='bar', title=\"education_level_household_head\")\n",
    "plt.show()\n",
    "\n",
    "print(100 * df['education_level_household_head'].value_counts() / len(df['education_level_household_head']))\n",
    "print('')\n",
    "\n",
    "print(pd.crosstab(index=df[\"education_level_household_head\"], columns=df['damage_grade']\n",
    "    ).apply(lambda r: r/r.sum() *100,axis=0))"
   ]
  },
  {
   "cell_type": "markdown",
   "metadata": {},
   "source": [
    "El sistema educativo de Nepal de distribuye de la siguiente forma y así lo utilizamos para agrupar:\n",
    "https://www.nuffic.nl/sites/default/files/2020-08/education-system-nepal.pdf\n",
    "\n",
    "- class 1 - 5: primary education\n",
    "- class 6- 8: lower secundary\n",
    "- class 9 - 10: Secondary. Aqui dan el titulo de SLC\n",
    "- class 10-12: higger secondary\n",
    "- Univeristy: bachelor, master and PHD\n",
    "\n",
    "Education mayoritarias: Illetrate y no formal\n",
    "\n",
    "Agrupamos como:\n",
    "\n",
    "    alta : PHD + master + bachelor \n",
    "    media: intermediate + class 6-12 + SLC + Nursery\n",
    "    baja: illiterarte + non formal + other + Class 1 a class5\n"
   ]
  },
  {
   "cell_type": "code",
   "execution_count": 31,
   "metadata": {},
   "outputs": [],
   "source": [
    "df[\"education_level_household_head\"].replace(['Ph.D. or equivalent',\n",
    "'Masters or equivalent',\n",
    "'Bachelors or equivalent'], \"High\", regex=True, inplace= True)"
   ]
  },
  {
   "cell_type": "code",
   "execution_count": 32,
   "metadata": {},
   "outputs": [],
   "source": [
    "df[\"education_level_household_head\"].replace(['Intermediate or equivalent',\n",
    "'SLC or equivalent',\n",
    "'Nursery/K.G./Kindergarten',\n",
    "'Other',\n",
    "'Class 6',\n",
    "'Class 7',                                                                     \n",
    "'Class 8',\n",
    "'Class 9',                                              \n",
    "'Class 10'], \"Medium\", regex=True, inplace= True)               "
   ]
  },
  {
   "cell_type": "code",
   "execution_count": 33,
   "metadata": {},
   "outputs": [],
   "source": [
    "df[\"education_level_household_head\"].replace(['Intermediate or equivalent',\n",
    "'Non-formal education',\n",
    "'Other',\n",
    "'Class 1',\n",
    "'Class 2',                                                                     \n",
    "'Class 3',\n",
    "'Class 4',                                              \n",
    "'Class 5'], \"Low\", regex=True, inplace= True)"
   ]
  },
  {
   "cell_type": "code",
   "execution_count": 34,
   "metadata": {},
   "outputs": [
    {
     "name": "stdout",
     "output_type": "stream",
     "text": [
      "Low            35.344204\n",
      "Illiterate     32.142909\n",
      "Medium         21.876878\n",
      "no_familias     8.742641\n",
      "High            1.893368\n",
      "Name: education_level_household_head, dtype: float64\n",
      "\n",
      "damage_grade                    High-Severe  Low-Medium\n",
      "education_level_household_head                         \n",
      "High                               1.679744    2.220066\n",
      "Illiterate                        33.930822   29.408621\n",
      "Low                               35.782076   34.674559\n",
      "Medium                            21.074672   23.103706\n",
      "no_familias                        7.532686   10.593048\n"
     ]
    }
   ],
   "source": [
    "print(100 * df['education_level_household_head'].value_counts() / len(df['education_level_household_head']))\n",
    "print('')\n",
    "print(pd.crosstab(index=df[\"education_level_household_head\"], columns=df['damage_grade']\n",
    "    ).apply(lambda r: r/r.sum() *100,axis=0))\n"
   ]
  },
  {
   "cell_type": "markdown",
   "metadata": {},
   "source": [
    "### Income level: agrupada"
   ]
  },
  {
   "cell_type": "code",
   "execution_count": 35,
   "metadata": {},
   "outputs": [
    {
     "data": {
      "image/png": "[encoded data removed]",
      "text/plain": [
       "<Figure size 432x288 with 1 Axes>"
      ]
     },
     "metadata": {
      "needs_background": "light"
     },
     "output_type": "display_data"
    },
    {
     "name": "stdout",
     "output_type": "stream",
     "text": [
      "Rs. 10 thousand            49.969464\n",
      "Rs. 10-20 thousand         28.298400\n",
      "Rs. 20-30 thousand          9.298033\n",
      "no_familias                 8.742641\n",
      "Rs. 30-50 thousand          2.680225\n",
      "Rs. 50 thousand or more     1.011237\n",
      "Name: income_level_household, dtype: float64\n",
      "\n",
      "damage_grade             High-Severe  Low-Medium\n",
      "income_level_household                          \n",
      "Rs. 10 thousand            52.320127   46.374550\n",
      "Rs. 10-20 thousand         28.217876   28.421547\n",
      "Rs. 20-30 thousand          8.633862   10.313763\n",
      "Rs. 30-50 thousand          2.402751    3.104571\n",
      "Rs. 50 thousand or more     0.892698    1.192521\n",
      "no_familias                 7.532686   10.593048\n"
     ]
    }
   ],
   "source": [
    "df[\"income_level_household\"].value_counts().plot(kind='bar', title=\"income_level_household\")\n",
    "plt.show()\n",
    "print(100 * df['income_level_household'].value_counts() / len(df['income_level_household']))\n",
    "print('')\n",
    "print(pd.crosstab(index=df[\"income_level_household\"], columns=df['damage_grade']\n",
    "    ).apply(lambda r: r/r.sum() *100,axis=0))"
   ]
  },
  {
   "cell_type": "markdown",
   "metadata": {},
   "source": [
    "https://datosmacro.expansion.com/paises/nepal#:~:text=Su%20capital%20es%20Katmand%C3%BA%20y,habitante312%24%20dolares%20por%20habitante.\n",
    " \n",
    "Sueldo medio en Nepal 20-23,5 Rs\n",
    "\n",
    "- incomes bajos (10rs): un poco mas en Grado alto, pero en G1 tb hay un % alto\n",
    "- incomes intermedios (10-20): no hay diferencia\n",
    "- incomes a partir de 20 están mas en Low\n",
    "\n",
    "Agrupamos como: bajo (10 + 10/20) / medio (20-30) / alto (30/50 + 50) / no familias"
   ]
  },
  {
   "cell_type": "code",
   "execution_count": 36,
   "metadata": {},
   "outputs": [],
   "source": [
    "df[\"income_level_household\"].replace(['Rs. 10 thousand',\n",
    "'Rs. 10-20 thousand',], \"Low\", regex=True, inplace= True)"
   ]
  },
  {
   "cell_type": "code",
   "execution_count": 37,
   "metadata": {},
   "outputs": [],
   "source": [
    "df[\"income_level_household\"].replace(['Rs. 30-50 thousand',\n",
    "'Rs. 50 thousand or more',], \"High\", regex=True, inplace= True)"
   ]
  },
  {
   "cell_type": "code",
   "execution_count": 38,
   "metadata": {},
   "outputs": [],
   "source": [
    "df[\"income_level_household\"].replace(['Rs. 20-30 thousand'], \"Medium\", regex=True, inplace= True)"
   ]
  },
  {
   "cell_type": "code",
   "execution_count": 39,
   "metadata": {},
   "outputs": [
    {
     "name": "stdout",
     "output_type": "stream",
     "text": [
      "Low            78.267864\n",
      "Medium          9.298033\n",
      "no_familias     8.742641\n",
      "High            3.691462\n",
      "Name: income_level_household, dtype: float64\n",
      "\n",
      "damage_grade            High-Severe  Low-Medium\n",
      "income_level_household                         \n",
      "High                       3.295449    4.297092\n",
      "Low                       80.538003   74.796097\n",
      "Medium                     8.633862   10.313763\n",
      "no_familias                7.532686   10.593048\n"
     ]
    }
   ],
   "source": [
    "print(100 * df['income_level_household'].value_counts() / len(df['income_level_household']))\n",
    "print('')\n",
    "print(pd.crosstab(index=df[\"income_level_household\"], columns=df['damage_grade']\n",
    "    ).apply(lambda r: r/r.sum() *100,axis=0))"
   ]
  },
  {
   "cell_type": "markdown",
   "metadata": {},
   "source": [
    "### Casta: agrupada"
   ]
  },
  {
   "cell_type": "code",
   "execution_count": 40,
   "metadata": {},
   "outputs": [
    {
     "name": "stdout",
     "output_type": "stream",
     "text": [
      "Tamang                     25.536338\n",
      "Chhetree                   15.682301\n",
      "Brahman-Hill               13.402345\n",
      "no_familias                 8.742641\n",
      "Newar                       8.378771\n",
      "Magar                       5.535605\n",
      "Kami                        3.139123\n",
      "Gurung                      3.108831\n",
      "Sarki                       2.631733\n",
      "Damai/Dholi                 1.885062\n",
      "Rai                         1.352510\n",
      "Sherpa                      1.205814\n",
      "Thami                       0.896788\n",
      "Majhi                       0.891291\n",
      "Chepang/Praja               0.889092\n",
      "Sunuwar                     0.882863\n",
      "Danuwar                     0.814462\n",
      "Gharti/Bhujel               0.688164\n",
      "Ghale                       0.663735\n",
      "Sanyasi/Dashnami            0.604373\n",
      "Thakuri                     0.518383\n",
      "Kumal                       0.511298\n",
      "0thers                      0.406620\n",
      "Pahari                      0.217418\n",
      "Jirel                       0.215219\n",
      "Musalman                    0.141566\n",
      "Hyolmo                      0.127641\n",
      "Bhote                       0.119946\n",
      "Brahmu/Baramo               0.118481\n",
      "Sonar                       0.087089\n",
      "Kamar                       0.069012\n",
      "Brahman-Tarai               0.064492\n",
      "Hayu                        0.057286\n",
      "Musahar                     0.056431\n",
      "Darai                       0.054477\n",
      "Tharu                       0.031880\n",
      "Baraee                      0.022963\n",
      "Sudhi                       0.022719\n",
      "Yadav                       0.021742\n",
      "Jhangad/Dhagar              0.017833\n",
      "Kalwar                      0.017467\n",
      "Teli                        0.014902\n",
      "Limbu                       0.012459\n",
      "Khawas                      0.010871\n",
      "Lohar                       0.009527\n",
      "Hajam/Thakur                0.009283\n",
      "Kumhar                      0.009283\n",
      "Dom                         0.009039\n",
      "Badi                        0.009039\n",
      "Koiri/Kushwaha              0.006840\n",
      "Kayastha                    0.006107\n",
      "Kanu                        0.006107\n",
      "Gaine                       0.005497\n",
      "Marwadi                     0.005008\n",
      "Haluwai                     0.004886\n",
      "Mallaha                     0.004397\n",
      "Badhaee                     0.004153\n",
      "Kurmi                       0.003298\n",
      "Rajbansi                    0.003176\n",
      "Kathbaniyan                 0.003054\n",
      "Rajput                      0.002931\n",
      "Dhanuk                      0.002931\n",
      "Bote                        0.002809\n",
      "Chamar/Harijan/Ram          0.002321\n",
      "Nuniya                      0.002199\n",
      "Bangali                     0.001832\n",
      "Dhobi                       0.001832\n",
      "Gaderi/Bhedhar              0.001466\n",
      "Raute                       0.001466\n",
      "Kewat                       0.001344\n",
      "Bin                         0.000977\n",
      "Thakali                     0.000977\n",
      "Amat                        0.000977\n",
      "Dusadh/Pasawan/Pasi         0.000855\n",
      "Lhopa                       0.000611\n",
      "Tatma/Tatwa                 0.000611\n",
      "Kori                        0.000489\n",
      "Dhimal                      0.000366\n",
      "Lepcha                      0.000366\n",
      "Mali                        0.000366\n",
      "Bahing                      0.000366\n",
      "Samgpang                    0.000366\n",
      "Kusunda                     0.000366\n",
      "Khatwe                      0.000366\n",
      "Satar/Santhal               0.000244\n",
      "Kalar                       0.000244\n",
      "Chamling                    0.000244\n",
      "Meche                       0.000244\n",
      "Bantar/Sardar               0.000122\n",
      "Mewahang Bala               0.000122\n",
      "Kahar                       0.000122\n",
      "Byasi/Sauka                 0.000122\n",
      "Dev                         0.000122\n",
      "Yakkha                      0.000122\n",
      "Pattharkatta/Kushwadiya     0.000122\n",
      "Koche                       0.000122\n",
      "Natuwa                      0.000122\n",
      "Name: caste_household, dtype: float64\n"
     ]
    }
   ],
   "source": [
    "print(100 * df['caste_household'].value_counts() / len(df['caste_household']))"
   ]
  },
  {
   "cell_type": "code",
   "execution_count": 41,
   "metadata": {},
   "outputs": [],
   "source": [
    "castas=pd.crosstab(index=df[\"caste_household\"], columns=df['damage_grade']\n",
    "    ).apply(lambda r: r/r.sum() *100,axis=0)"
   ]
  },
  {
   "cell_type": "code",
   "execution_count": 42,
   "metadata": {},
   "outputs": [
    {
     "data": {
      "text/html": [
       "<div>\n",
       "<style scoped>\n",
       "    .dataframe tbody tr th:only-of-type {\n",
       "        vertical-align: middle;\n",
       "    }\n",
       "\n",
       "    .dataframe tbody tr th {\n",
       "        vertical-align: top;\n",
       "    }\n",
       "\n",
       "    .dataframe thead th {\n",
       "        text-align: right;\n",
       "    }\n",
       "</style>\n",
       "<table border=\"1\" class=\"dataframe\">\n",
       "  <thead>\n",
       "    <tr style=\"text-align: right;\">\n",
       "      <th>damage_grade</th>\n",
       "      <th>High-Severe</th>\n",
       "      <th>Low-Medium</th>\n",
       "    </tr>\n",
       "    <tr>\n",
       "      <th>caste_household</th>\n",
       "      <th></th>\n",
       "      <th></th>\n",
       "    </tr>\n",
       "  </thead>\n",
       "  <tbody>\n",
       "    <tr>\n",
       "      <th>Tamang</th>\n",
       "      <td>26.069864</td>\n",
       "      <td>24.720406</td>\n",
       "    </tr>\n",
       "    <tr>\n",
       "      <th>Chhetree</th>\n",
       "      <td>16.805921</td>\n",
       "      <td>13.963928</td>\n",
       "    </tr>\n",
       "    <tr>\n",
       "      <th>Brahman-Hill</th>\n",
       "      <td>13.423607</td>\n",
       "      <td>13.369830</td>\n",
       "    </tr>\n",
       "    <tr>\n",
       "      <th>Newar</th>\n",
       "      <td>7.910653</td>\n",
       "      <td>9.094673</td>\n",
       "    </tr>\n",
       "    <tr>\n",
       "      <th>no_familias</th>\n",
       "      <td>7.532686</td>\n",
       "      <td>10.593048</td>\n",
       "    </tr>\n",
       "    <tr>\n",
       "      <th>Magar</th>\n",
       "      <td>4.456826</td>\n",
       "      <td>7.185403</td>\n",
       "    </tr>\n",
       "    <tr>\n",
       "      <th>Gurung</th>\n",
       "      <td>3.696648</td>\n",
       "      <td>2.209871</td>\n",
       "    </tr>\n",
       "    <tr>\n",
       "      <th>Kami</th>\n",
       "      <td>3.330195</td>\n",
       "      <td>2.846912</td>\n",
       "    </tr>\n",
       "    <tr>\n",
       "      <th>Sarki</th>\n",
       "      <td>2.822939</td>\n",
       "      <td>2.339319</td>\n",
       "    </tr>\n",
       "    <tr>\n",
       "      <th>Damai/Dholi</th>\n",
       "      <td>2.052459</td>\n",
       "      <td>1.629058</td>\n",
       "    </tr>\n",
       "    <tr>\n",
       "      <th>Sherpa</th>\n",
       "      <td>1.486013</td>\n",
       "      <td>0.777301</td>\n",
       "    </tr>\n",
       "    <tr>\n",
       "      <th>Thami</th>\n",
       "      <td>1.365410</td>\n",
       "      <td>0.180114</td>\n",
       "    </tr>\n",
       "    <tr>\n",
       "      <th>Ghale</th>\n",
       "      <td>0.904617</td>\n",
       "      <td>0.295350</td>\n",
       "    </tr>\n",
       "    <tr>\n",
       "      <th>Rai</th>\n",
       "      <td>0.876739</td>\n",
       "      <td>2.080115</td>\n",
       "    </tr>\n",
       "    <tr>\n",
       "      <th>Majhi</th>\n",
       "      <td>0.845225</td>\n",
       "      <td>0.961740</td>\n",
       "    </tr>\n",
       "    <tr>\n",
       "      <th>Sunuwar</th>\n",
       "      <td>0.783005</td>\n",
       "      <td>1.035578</td>\n",
       "    </tr>\n",
       "    <tr>\n",
       "      <th>Sanyasi/Dashnami</th>\n",
       "      <td>0.764420</td>\n",
       "      <td>0.359610</td>\n",
       "    </tr>\n",
       "    <tr>\n",
       "      <th>Gharti/Bhujel</th>\n",
       "      <td>0.747855</td>\n",
       "      <td>0.596878</td>\n",
       "    </tr>\n",
       "    <tr>\n",
       "      <th>Chepang/Praja</th>\n",
       "      <td>0.557356</td>\n",
       "      <td>1.396424</td>\n",
       "    </tr>\n",
       "    <tr>\n",
       "      <th>Danuwar</th>\n",
       "      <td>0.556952</td>\n",
       "      <td>1.208277</td>\n",
       "    </tr>\n",
       "    <tr>\n",
       "      <th>Thakuri</th>\n",
       "      <td>0.513519</td>\n",
       "      <td>0.525821</td>\n",
       "    </tr>\n",
       "    <tr>\n",
       "      <th>Kumal</th>\n",
       "      <td>0.451097</td>\n",
       "      <td>0.603366</td>\n",
       "    </tr>\n",
       "    <tr>\n",
       "      <th>0thers</th>\n",
       "      <td>0.423219</td>\n",
       "      <td>0.381236</td>\n",
       "    </tr>\n",
       "    <tr>\n",
       "      <th>Jirel</th>\n",
       "      <td>0.313929</td>\n",
       "      <td>0.064260</td>\n",
       "    </tr>\n",
       "    <tr>\n",
       "      <th>Pahari</th>\n",
       "      <td>0.248881</td>\n",
       "      <td>0.169301</td>\n",
       "    </tr>\n",
       "    <tr>\n",
       "      <th>Hyolmo</th>\n",
       "      <td>0.192721</td>\n",
       "      <td>0.028114</td>\n",
       "    </tr>\n",
       "    <tr>\n",
       "      <th>Brahmu/Baramo</th>\n",
       "      <td>0.162621</td>\n",
       "      <td>0.050976</td>\n",
       "    </tr>\n",
       "    <tr>\n",
       "      <th>Bhote</th>\n",
       "      <td>0.131713</td>\n",
       "      <td>0.101951</td>\n",
       "    </tr>\n",
       "    <tr>\n",
       "      <th>Musalman</th>\n",
       "      <td>0.103835</td>\n",
       "      <td>0.199268</td>\n",
       "    </tr>\n",
       "    <tr>\n",
       "      <th>Sonar</th>\n",
       "      <td>0.097573</td>\n",
       "      <td>0.071057</td>\n",
       "    </tr>\n",
       "    <tr>\n",
       "      <th>Kamar</th>\n",
       "      <td>0.070099</td>\n",
       "      <td>0.067350</td>\n",
       "    </tr>\n",
       "    <tr>\n",
       "      <th>Hayu</th>\n",
       "      <td>0.054140</td>\n",
       "      <td>0.062098</td>\n",
       "    </tr>\n",
       "    <tr>\n",
       "      <th>Darai</th>\n",
       "      <td>0.053332</td>\n",
       "      <td>0.056228</td>\n",
       "    </tr>\n",
       "    <tr>\n",
       "      <th>Baraee</th>\n",
       "      <td>0.027676</td>\n",
       "      <td>0.015756</td>\n",
       "    </tr>\n",
       "    <tr>\n",
       "      <th>Brahman-Tarai</th>\n",
       "      <td>0.024848</td>\n",
       "      <td>0.125122</td>\n",
       "    </tr>\n",
       "    <tr>\n",
       "      <th>Jhangad/Dhagar</th>\n",
       "      <td>0.023838</td>\n",
       "      <td>0.008650</td>\n",
       "    </tr>\n",
       "    <tr>\n",
       "      <th>Musahar</th>\n",
       "      <td>0.016161</td>\n",
       "      <td>0.118016</td>\n",
       "    </tr>\n",
       "    <tr>\n",
       "      <th>Badi</th>\n",
       "      <td>0.010707</td>\n",
       "      <td>0.006488</td>\n",
       "    </tr>\n",
       "    <tr>\n",
       "      <th>Dom</th>\n",
       "      <td>0.009899</td>\n",
       "      <td>0.007724</td>\n",
       "    </tr>\n",
       "    <tr>\n",
       "      <th>Lohar</th>\n",
       "      <td>0.008889</td>\n",
       "      <td>0.010504</td>\n",
       "    </tr>\n",
       "    <tr>\n",
       "      <th>Limbu</th>\n",
       "      <td>0.006666</td>\n",
       "      <td>0.021317</td>\n",
       "    </tr>\n",
       "    <tr>\n",
       "      <th>Khawas</th>\n",
       "      <td>0.006666</td>\n",
       "      <td>0.017301</td>\n",
       "    </tr>\n",
       "    <tr>\n",
       "      <th>Yadav</th>\n",
       "      <td>0.006060</td>\n",
       "      <td>0.045724</td>\n",
       "    </tr>\n",
       "    <tr>\n",
       "      <th>Tharu</th>\n",
       "      <td>0.006060</td>\n",
       "      <td>0.071366</td>\n",
       "    </tr>\n",
       "    <tr>\n",
       "      <th>Gaine</th>\n",
       "      <td>0.005252</td>\n",
       "      <td>0.005870</td>\n",
       "    </tr>\n",
       "    <tr>\n",
       "      <th>Kumhar</th>\n",
       "      <td>0.005050</td>\n",
       "      <td>0.015756</td>\n",
       "    </tr>\n",
       "    <tr>\n",
       "      <th>Badhaee</th>\n",
       "      <td>0.004040</td>\n",
       "      <td>0.004325</td>\n",
       "    </tr>\n",
       "    <tr>\n",
       "      <th>Sudhi</th>\n",
       "      <td>0.004040</td>\n",
       "      <td>0.051285</td>\n",
       "    </tr>\n",
       "    <tr>\n",
       "      <th>Kayastha</th>\n",
       "      <td>0.002828</td>\n",
       "      <td>0.011122</td>\n",
       "    </tr>\n",
       "    <tr>\n",
       "      <th>Mallaha</th>\n",
       "      <td>0.002626</td>\n",
       "      <td>0.007106</td>\n",
       "    </tr>\n",
       "    <tr>\n",
       "      <th>Rajbansi</th>\n",
       "      <td>0.002424</td>\n",
       "      <td>0.004325</td>\n",
       "    </tr>\n",
       "    <tr>\n",
       "      <th>Koiri/Kushwaha</th>\n",
       "      <td>0.002020</td>\n",
       "      <td>0.014211</td>\n",
       "    </tr>\n",
       "    <tr>\n",
       "      <th>Teli</th>\n",
       "      <td>0.002020</td>\n",
       "      <td>0.034602</td>\n",
       "    </tr>\n",
       "    <tr>\n",
       "      <th>Kalwar</th>\n",
       "      <td>0.001616</td>\n",
       "      <td>0.041707</td>\n",
       "    </tr>\n",
       "    <tr>\n",
       "      <th>Hajam/Thakur</th>\n",
       "      <td>0.001414</td>\n",
       "      <td>0.021317</td>\n",
       "    </tr>\n",
       "    <tr>\n",
       "      <th>Gaderi/Bhedhar</th>\n",
       "      <td>0.001212</td>\n",
       "      <td>0.001854</td>\n",
       "    </tr>\n",
       "    <tr>\n",
       "      <th>Nuniya</th>\n",
       "      <td>0.001212</td>\n",
       "      <td>0.003707</td>\n",
       "    </tr>\n",
       "    <tr>\n",
       "      <th>Dhanuk</th>\n",
       "      <td>0.001010</td>\n",
       "      <td>0.005870</td>\n",
       "    </tr>\n",
       "    <tr>\n",
       "      <th>Haluwai</th>\n",
       "      <td>0.001010</td>\n",
       "      <td>0.010813</td>\n",
       "    </tr>\n",
       "    <tr>\n",
       "      <th>Dhobi</th>\n",
       "      <td>0.001010</td>\n",
       "      <td>0.003089</td>\n",
       "    </tr>\n",
       "    <tr>\n",
       "      <th>Kurmi</th>\n",
       "      <td>0.001010</td>\n",
       "      <td>0.006797</td>\n",
       "    </tr>\n",
       "    <tr>\n",
       "      <th>Amat</th>\n",
       "      <td>0.000808</td>\n",
       "      <td>0.001236</td>\n",
       "    </tr>\n",
       "    <tr>\n",
       "      <th>Bahing</th>\n",
       "      <td>0.000606</td>\n",
       "      <td>0.000000</td>\n",
       "    </tr>\n",
       "    <tr>\n",
       "      <th>Raute</th>\n",
       "      <td>0.000606</td>\n",
       "      <td>0.002780</td>\n",
       "    </tr>\n",
       "    <tr>\n",
       "      <th>Bote</th>\n",
       "      <td>0.000404</td>\n",
       "      <td>0.006488</td>\n",
       "    </tr>\n",
       "    <tr>\n",
       "      <th>Lhopa</th>\n",
       "      <td>0.000404</td>\n",
       "      <td>0.000927</td>\n",
       "    </tr>\n",
       "    <tr>\n",
       "      <th>Thakali</th>\n",
       "      <td>0.000404</td>\n",
       "      <td>0.001854</td>\n",
       "    </tr>\n",
       "    <tr>\n",
       "      <th>Dusadh/Pasawan/Pasi</th>\n",
       "      <td>0.000404</td>\n",
       "      <td>0.001545</td>\n",
       "    </tr>\n",
       "    <tr>\n",
       "      <th>Dhimal</th>\n",
       "      <td>0.000404</td>\n",
       "      <td>0.000309</td>\n",
       "    </tr>\n",
       "    <tr>\n",
       "      <th>Kathbaniyan</th>\n",
       "      <td>0.000202</td>\n",
       "      <td>0.007415</td>\n",
       "    </tr>\n",
       "    <tr>\n",
       "      <th>Kalar</th>\n",
       "      <td>0.000202</td>\n",
       "      <td>0.000309</td>\n",
       "    </tr>\n",
       "    <tr>\n",
       "      <th>Chamar/Harijan/Ram</th>\n",
       "      <td>0.000202</td>\n",
       "      <td>0.005561</td>\n",
       "    </tr>\n",
       "    <tr>\n",
       "      <th>Kanu</th>\n",
       "      <td>0.000202</td>\n",
       "      <td>0.015138</td>\n",
       "    </tr>\n",
       "    <tr>\n",
       "      <th>Chamling</th>\n",
       "      <td>0.000202</td>\n",
       "      <td>0.000309</td>\n",
       "    </tr>\n",
       "    <tr>\n",
       "      <th>Lepcha</th>\n",
       "      <td>0.000202</td>\n",
       "      <td>0.000618</td>\n",
       "    </tr>\n",
       "    <tr>\n",
       "      <th>Khatwe</th>\n",
       "      <td>0.000202</td>\n",
       "      <td>0.000618</td>\n",
       "    </tr>\n",
       "    <tr>\n",
       "      <th>Kewat</th>\n",
       "      <td>0.000202</td>\n",
       "      <td>0.003089</td>\n",
       "    </tr>\n",
       "    <tr>\n",
       "      <th>Natuwa</th>\n",
       "      <td>0.000202</td>\n",
       "      <td>0.000000</td>\n",
       "    </tr>\n",
       "    <tr>\n",
       "      <th>Kusunda</th>\n",
       "      <td>0.000202</td>\n",
       "      <td>0.000618</td>\n",
       "    </tr>\n",
       "    <tr>\n",
       "      <th>Kori</th>\n",
       "      <td>0.000202</td>\n",
       "      <td>0.000927</td>\n",
       "    </tr>\n",
       "    <tr>\n",
       "      <th>Pattharkatta/Kushwadiya</th>\n",
       "      <td>0.000202</td>\n",
       "      <td>0.000000</td>\n",
       "    </tr>\n",
       "    <tr>\n",
       "      <th>Marwadi</th>\n",
       "      <td>0.000202</td>\n",
       "      <td>0.012358</td>\n",
       "    </tr>\n",
       "    <tr>\n",
       "      <th>Bin</th>\n",
       "      <td>0.000000</td>\n",
       "      <td>0.002472</td>\n",
       "    </tr>\n",
       "    <tr>\n",
       "      <th>Meche</th>\n",
       "      <td>0.000000</td>\n",
       "      <td>0.000618</td>\n",
       "    </tr>\n",
       "    <tr>\n",
       "      <th>Yakkha</th>\n",
       "      <td>0.000000</td>\n",
       "      <td>0.000309</td>\n",
       "    </tr>\n",
       "    <tr>\n",
       "      <th>Mali</th>\n",
       "      <td>0.000000</td>\n",
       "      <td>0.000927</td>\n",
       "    </tr>\n",
       "    <tr>\n",
       "      <th>Dev</th>\n",
       "      <td>0.000000</td>\n",
       "      <td>0.000309</td>\n",
       "    </tr>\n",
       "    <tr>\n",
       "      <th>Byasi/Sauka</th>\n",
       "      <td>0.000000</td>\n",
       "      <td>0.000309</td>\n",
       "    </tr>\n",
       "    <tr>\n",
       "      <th>Bangali</th>\n",
       "      <td>0.000000</td>\n",
       "      <td>0.004634</td>\n",
       "    </tr>\n",
       "    <tr>\n",
       "      <th>Tatma/Tatwa</th>\n",
       "      <td>0.000000</td>\n",
       "      <td>0.001545</td>\n",
       "    </tr>\n",
       "    <tr>\n",
       "      <th>Mewahang Bala</th>\n",
       "      <td>0.000000</td>\n",
       "      <td>0.000309</td>\n",
       "    </tr>\n",
       "    <tr>\n",
       "      <th>Kahar</th>\n",
       "      <td>0.000000</td>\n",
       "      <td>0.000309</td>\n",
       "    </tr>\n",
       "    <tr>\n",
       "      <th>Bantar/Sardar</th>\n",
       "      <td>0.000000</td>\n",
       "      <td>0.000309</td>\n",
       "    </tr>\n",
       "    <tr>\n",
       "      <th>Satar/Santhal</th>\n",
       "      <td>0.000000</td>\n",
       "      <td>0.000618</td>\n",
       "    </tr>\n",
       "    <tr>\n",
       "      <th>Koche</th>\n",
       "      <td>0.000000</td>\n",
       "      <td>0.000309</td>\n",
       "    </tr>\n",
       "    <tr>\n",
       "      <th>Samgpang</th>\n",
       "      <td>0.000000</td>\n",
       "      <td>0.000927</td>\n",
       "    </tr>\n",
       "    <tr>\n",
       "      <th>Rajput</th>\n",
       "      <td>0.000000</td>\n",
       "      <td>0.007415</td>\n",
       "    </tr>\n",
       "  </tbody>\n",
       "</table>\n",
       "</div>"
      ],
      "text/plain": [
       "damage_grade             High-Severe  Low-Medium\n",
       "caste_household                                 \n",
       "Tamang                     26.069864   24.720406\n",
       "Chhetree                   16.805921   13.963928\n",
       "Brahman-Hill               13.423607   13.369830\n",
       "Newar                       7.910653    9.094673\n",
       "no_familias                 7.532686   10.593048\n",
       "Magar                       4.456826    7.185403\n",
       "Gurung                      3.696648    2.209871\n",
       "Kami                        3.330195    2.846912\n",
       "Sarki                       2.822939    2.339319\n",
       "Damai/Dholi                 2.052459    1.629058\n",
       "Sherpa                      1.486013    0.777301\n",
       "Thami                       1.365410    0.180114\n",
       "Ghale                       0.904617    0.295350\n",
       "Rai                         0.876739    2.080115\n",
       "Majhi                       0.845225    0.961740\n",
       "Sunuwar                     0.783005    1.035578\n",
       "Sanyasi/Dashnami            0.764420    0.359610\n",
       "Gharti/Bhujel               0.747855    0.596878\n",
       "Chepang/Praja               0.557356    1.396424\n",
       "Danuwar                     0.556952    1.208277\n",
       "Thakuri                     0.513519    0.525821\n",
       "Kumal                       0.451097    0.603366\n",
       "0thers                      0.423219    0.381236\n",
       "Jirel                       0.313929    0.064260\n",
       "Pahari                      0.248881    0.169301\n",
       "Hyolmo                      0.192721    0.028114\n",
       "Brahmu/Baramo               0.162621    0.050976\n",
       "Bhote                       0.131713    0.101951\n",
       "Musalman                    0.103835    0.199268\n",
       "Sonar                       0.097573    0.071057\n",
       "Kamar                       0.070099    0.067350\n",
       "Hayu                        0.054140    0.062098\n",
       "Darai                       0.053332    0.056228\n",
       "Baraee                      0.027676    0.015756\n",
       "Brahman-Tarai               0.024848    0.125122\n",
       "Jhangad/Dhagar              0.023838    0.008650\n",
       "Musahar                     0.016161    0.118016\n",
       "Badi                        0.010707    0.006488\n",
       "Dom                         0.009899    0.007724\n",
       "Lohar                       0.008889    0.010504\n",
       "Limbu                       0.006666    0.021317\n",
       "Khawas                      0.006666    0.017301\n",
       "Yadav                       0.006060    0.045724\n",
       "Tharu                       0.006060    0.071366\n",
       "Gaine                       0.005252    0.005870\n",
       "Kumhar                      0.005050    0.015756\n",
       "Badhaee                     0.004040    0.004325\n",
       "Sudhi                       0.004040    0.051285\n",
       "Kayastha                    0.002828    0.011122\n",
       "Mallaha                     0.002626    0.007106\n",
       "Rajbansi                    0.002424    0.004325\n",
       "Koiri/Kushwaha              0.002020    0.014211\n",
       "Teli                        0.002020    0.034602\n",
       "Kalwar                      0.001616    0.041707\n",
       "Hajam/Thakur                0.001414    0.021317\n",
       "Gaderi/Bhedhar              0.001212    0.001854\n",
       "Nuniya                      0.001212    0.003707\n",
       "Dhanuk                      0.001010    0.005870\n",
       "Haluwai                     0.001010    0.010813\n",
       "Dhobi                       0.001010    0.003089\n",
       "Kurmi                       0.001010    0.006797\n",
       "Amat                        0.000808    0.001236\n",
       "Bahing                      0.000606    0.000000\n",
       "Raute                       0.000606    0.002780\n",
       "Bote                        0.000404    0.006488\n",
       "Lhopa                       0.000404    0.000927\n",
       "Thakali                     0.000404    0.001854\n",
       "Dusadh/Pasawan/Pasi         0.000404    0.001545\n",
       "Dhimal                      0.000404    0.000309\n",
       "Kathbaniyan                 0.000202    0.007415\n",
       "Kalar                       0.000202    0.000309\n",
       "Chamar/Harijan/Ram          0.000202    0.005561\n",
       "Kanu                        0.000202    0.015138\n",
       "Chamling                    0.000202    0.000309\n",
       "Lepcha                      0.000202    0.000618\n",
       "Khatwe                      0.000202    0.000618\n",
       "Kewat                       0.000202    0.003089\n",
       "Natuwa                      0.000202    0.000000\n",
       "Kusunda                     0.000202    0.000618\n",
       "Kori                        0.000202    0.000927\n",
       "Pattharkatta/Kushwadiya     0.000202    0.000000\n",
       "Marwadi                     0.000202    0.012358\n",
       "Bin                         0.000000    0.002472\n",
       "Meche                       0.000000    0.000618\n",
       "Yakkha                      0.000000    0.000309\n",
       "Mali                        0.000000    0.000927\n",
       "Dev                         0.000000    0.000309\n",
       "Byasi/Sauka                 0.000000    0.000309\n",
       "Bangali                     0.000000    0.004634\n",
       "Tatma/Tatwa                 0.000000    0.001545\n",
       "Mewahang Bala               0.000000    0.000309\n",
       "Kahar                       0.000000    0.000309\n",
       "Bantar/Sardar               0.000000    0.000309\n",
       "Satar/Santhal               0.000000    0.000618\n",
       "Koche                       0.000000    0.000309\n",
       "Samgpang                    0.000000    0.000927\n",
       "Rajput                      0.000000    0.007415"
      ]
     },
     "execution_count": 42,
     "metadata": {},
     "output_type": "execute_result"
    }
   ],
   "source": [
    "by_high_severe = castas.sort_values('High-Severe', ascending=False)\n",
    "by_high_severe"
   ]
  },
  {
   "cell_type": "code",
   "execution_count": 43,
   "metadata": {},
   "outputs": [],
   "source": [
    "castas_income=pd.crosstab(index=df[\"caste_household\"], columns=df['income_level_household']\n",
    "    ).apply(lambda r: r/r.sum() *100,axis=0)"
   ]
  },
  {
   "cell_type": "code",
   "execution_count": 44,
   "metadata": {},
   "outputs": [
    {
     "data": {
      "text/html": [
       "<div>\n",
       "<style scoped>\n",
       "    .dataframe tbody tr th:only-of-type {\n",
       "        vertical-align: middle;\n",
       "    }\n",
       "\n",
       "    .dataframe tbody tr th {\n",
       "        vertical-align: top;\n",
       "    }\n",
       "\n",
       "    .dataframe thead th {\n",
       "        text-align: right;\n",
       "    }\n",
       "</style>\n",
       "<table border=\"1\" class=\"dataframe\">\n",
       "  <thead>\n",
       "    <tr style=\"text-align: right;\">\n",
       "      <th>income_level_household</th>\n",
       "      <th>High</th>\n",
       "      <th>Low</th>\n",
       "      <th>Medium</th>\n",
       "      <th>no_familias</th>\n",
       "    </tr>\n",
       "    <tr>\n",
       "      <th>caste_household</th>\n",
       "      <th></th>\n",
       "      <th></th>\n",
       "      <th></th>\n",
       "      <th></th>\n",
       "    </tr>\n",
       "  </thead>\n",
       "  <tbody>\n",
       "    <tr>\n",
       "      <th>Brahman-Hill</th>\n",
       "      <td>24.356429</td>\n",
       "      <td>13.323939</td>\n",
       "      <td>22.315200</td>\n",
       "      <td>0.0</td>\n",
       "    </tr>\n",
       "    <tr>\n",
       "      <th>Tamang</th>\n",
       "      <td>20.455297</td>\n",
       "      <td>29.078668</td>\n",
       "      <td>21.746384</td>\n",
       "      <td>0.0</td>\n",
       "    </tr>\n",
       "    <tr>\n",
       "      <th>Chhetree</th>\n",
       "      <td>19.151611</td>\n",
       "      <td>16.914256</td>\n",
       "      <td>18.680294</td>\n",
       "      <td>0.0</td>\n",
       "    </tr>\n",
       "    <tr>\n",
       "      <th>Newar</th>\n",
       "      <td>14.320694</td>\n",
       "      <td>8.497626</td>\n",
       "      <td>12.897547</td>\n",
       "      <td>0.0</td>\n",
       "    </tr>\n",
       "    <tr>\n",
       "      <th>Magar</th>\n",
       "      <td>4.533122</td>\n",
       "      <td>6.260349</td>\n",
       "      <td>5.037899</td>\n",
       "      <td>0.0</td>\n",
       "    </tr>\n",
       "    <tr>\n",
       "      <th>Gurung</th>\n",
       "      <td>4.053339</td>\n",
       "      <td>3.361065</td>\n",
       "      <td>3.533755</td>\n",
       "      <td>0.0</td>\n",
       "    </tr>\n",
       "    <tr>\n",
       "      <th>Kami</th>\n",
       "      <td>2.021706</td>\n",
       "      <td>3.602334</td>\n",
       "      <td>2.635209</td>\n",
       "      <td>0.0</td>\n",
       "    </tr>\n",
       "    <tr>\n",
       "      <th>Sherpa</th>\n",
       "      <td>1.571703</td>\n",
       "      <td>1.334001</td>\n",
       "      <td>1.115300</td>\n",
       "      <td>0.0</td>\n",
       "    </tr>\n",
       "    <tr>\n",
       "      <th>Rai</th>\n",
       "      <td>1.105155</td>\n",
       "      <td>1.522210</td>\n",
       "      <td>1.293958</td>\n",
       "      <td>0.0</td>\n",
       "    </tr>\n",
       "    <tr>\n",
       "      <th>Ghale</th>\n",
       "      <td>0.992654</td>\n",
       "      <td>0.713507</td>\n",
       "      <td>0.738279</td>\n",
       "      <td>0.0</td>\n",
       "    </tr>\n",
       "    <tr>\n",
       "      <th>Sarki</th>\n",
       "      <td>0.972801</td>\n",
       "      <td>3.122137</td>\n",
       "      <td>1.636825</td>\n",
       "      <td>0.0</td>\n",
       "    </tr>\n",
       "    <tr>\n",
       "      <th>Damai/Dholi</th>\n",
       "      <td>0.833830</td>\n",
       "      <td>2.209810</td>\n",
       "      <td>1.341250</td>\n",
       "      <td>0.0</td>\n",
       "    </tr>\n",
       "    <tr>\n",
       "      <th>Thakuri</th>\n",
       "      <td>0.754417</td>\n",
       "      <td>0.546834</td>\n",
       "      <td>0.672596</td>\n",
       "      <td>0.0</td>\n",
       "    </tr>\n",
       "    <tr>\n",
       "      <th>Sanyasi/Dashnami</th>\n",
       "      <td>0.493018</td>\n",
       "      <td>0.685104</td>\n",
       "      <td>0.537288</td>\n",
       "      <td>0.0</td>\n",
       "    </tr>\n",
       "    <tr>\n",
       "      <th>Sunuwar</th>\n",
       "      <td>0.463239</td>\n",
       "      <td>1.041233</td>\n",
       "      <td>0.546484</td>\n",
       "      <td>0.0</td>\n",
       "    </tr>\n",
       "    <tr>\n",
       "      <th>Gharti/Bhujel</th>\n",
       "      <td>0.393753</td>\n",
       "      <td>0.801837</td>\n",
       "      <td>0.495251</td>\n",
       "      <td>0.0</td>\n",
       "    </tr>\n",
       "    <tr>\n",
       "      <th>Danuwar</th>\n",
       "      <td>0.390444</td>\n",
       "      <td>0.920910</td>\n",
       "      <td>0.852568</td>\n",
       "      <td>0.0</td>\n",
       "    </tr>\n",
       "    <tr>\n",
       "      <th>0thers</th>\n",
       "      <td>0.387135</td>\n",
       "      <td>0.456164</td>\n",
       "      <td>0.379649</td>\n",
       "      <td>0.0</td>\n",
       "    </tr>\n",
       "    <tr>\n",
       "      <th>Majhi</th>\n",
       "      <td>0.297796</td>\n",
       "      <td>1.071976</td>\n",
       "      <td>0.444018</td>\n",
       "      <td>0.0</td>\n",
       "    </tr>\n",
       "    <tr>\n",
       "      <th>Hyolmo</th>\n",
       "      <td>0.274634</td>\n",
       "      <td>0.131715</td>\n",
       "      <td>0.155012</td>\n",
       "      <td>0.0</td>\n",
       "    </tr>\n",
       "    <tr>\n",
       "      <th>Jirel</th>\n",
       "      <td>0.241546</td>\n",
       "      <td>0.238928</td>\n",
       "      <td>0.207559</td>\n",
       "      <td>0.0</td>\n",
       "    </tr>\n",
       "    <tr>\n",
       "      <th>Musalman</th>\n",
       "      <td>0.241546</td>\n",
       "      <td>0.147789</td>\n",
       "      <td>0.182599</td>\n",
       "      <td>0.0</td>\n",
       "    </tr>\n",
       "    <tr>\n",
       "      <th>Kumal</th>\n",
       "      <td>0.208457</td>\n",
       "      <td>0.583040</td>\n",
       "      <td>0.508388</td>\n",
       "      <td>0.0</td>\n",
       "    </tr>\n",
       "    <tr>\n",
       "      <th>Thami</th>\n",
       "      <td>0.191913</td>\n",
       "      <td>1.051689</td>\n",
       "      <td>0.715947</td>\n",
       "      <td>0.0</td>\n",
       "    </tr>\n",
       "    <tr>\n",
       "      <th>Brahman-Tarai</th>\n",
       "      <td>0.188604</td>\n",
       "      <td>0.055557</td>\n",
       "      <td>0.151071</td>\n",
       "      <td>0.0</td>\n",
       "    </tr>\n",
       "    <tr>\n",
       "      <th>Chepang/Praja</th>\n",
       "      <td>0.109192</td>\n",
       "      <td>1.114425</td>\n",
       "      <td>0.137935</td>\n",
       "      <td>0.0</td>\n",
       "    </tr>\n",
       "    <tr>\n",
       "      <th>Sonar</th>\n",
       "      <td>0.105883</td>\n",
       "      <td>0.095665</td>\n",
       "      <td>0.089329</td>\n",
       "      <td>0.0</td>\n",
       "    </tr>\n",
       "    <tr>\n",
       "      <th>Kamar</th>\n",
       "      <td>0.095957</td>\n",
       "      <td>0.078498</td>\n",
       "      <td>0.043351</td>\n",
       "      <td>0.0</td>\n",
       "    </tr>\n",
       "    <tr>\n",
       "      <th>Sudhi</th>\n",
       "      <td>0.089339</td>\n",
       "      <td>0.015138</td>\n",
       "      <td>0.081447</td>\n",
       "      <td>0.0</td>\n",
       "    </tr>\n",
       "    <tr>\n",
       "      <th>Brahmu/Baramo</th>\n",
       "      <td>0.066177</td>\n",
       "      <td>0.140142</td>\n",
       "      <td>0.068310</td>\n",
       "      <td>0.0</td>\n",
       "    </tr>\n",
       "    <tr>\n",
       "      <th>Tharu</th>\n",
       "      <td>0.062868</td>\n",
       "      <td>0.030432</td>\n",
       "      <td>0.061742</td>\n",
       "      <td>0.0</td>\n",
       "    </tr>\n",
       "    <tr>\n",
       "      <th>Bhote</th>\n",
       "      <td>0.059559</td>\n",
       "      <td>0.145916</td>\n",
       "      <td>0.038096</td>\n",
       "      <td>0.0</td>\n",
       "    </tr>\n",
       "    <tr>\n",
       "      <th>Kalwar</th>\n",
       "      <td>0.052942</td>\n",
       "      <td>0.015918</td>\n",
       "      <td>0.032842</td>\n",
       "      <td>0.0</td>\n",
       "    </tr>\n",
       "    <tr>\n",
       "      <th>Hayu</th>\n",
       "      <td>0.046324</td>\n",
       "      <td>0.063985</td>\n",
       "      <td>0.059115</td>\n",
       "      <td>0.0</td>\n",
       "    </tr>\n",
       "    <tr>\n",
       "      <th>Teli</th>\n",
       "      <td>0.046324</td>\n",
       "      <td>0.012641</td>\n",
       "      <td>0.035469</td>\n",
       "      <td>0.0</td>\n",
       "    </tr>\n",
       "    <tr>\n",
       "      <th>Yadav</th>\n",
       "      <td>0.033088</td>\n",
       "      <td>0.018883</td>\n",
       "      <td>0.061742</td>\n",
       "      <td>0.0</td>\n",
       "    </tr>\n",
       "    <tr>\n",
       "      <th>Marwadi</th>\n",
       "      <td>0.029780</td>\n",
       "      <td>0.002185</td>\n",
       "      <td>0.023646</td>\n",
       "      <td>0.0</td>\n",
       "    </tr>\n",
       "    <tr>\n",
       "      <th>Jhangad/Dhagar</th>\n",
       "      <td>0.029780</td>\n",
       "      <td>0.020444</td>\n",
       "      <td>0.007882</td>\n",
       "      <td>0.0</td>\n",
       "    </tr>\n",
       "    <tr>\n",
       "      <th>Darai</th>\n",
       "      <td>0.026471</td>\n",
       "      <td>0.061800</td>\n",
       "      <td>0.055174</td>\n",
       "      <td>0.0</td>\n",
       "    </tr>\n",
       "    <tr>\n",
       "      <th>Kanu</th>\n",
       "      <td>0.023162</td>\n",
       "      <td>0.004838</td>\n",
       "      <td>0.015764</td>\n",
       "      <td>0.0</td>\n",
       "    </tr>\n",
       "    <tr>\n",
       "      <th>Kayastha</th>\n",
       "      <td>0.019853</td>\n",
       "      <td>0.005150</td>\n",
       "      <td>0.014450</td>\n",
       "      <td>0.0</td>\n",
       "    </tr>\n",
       "    <tr>\n",
       "      <th>Limbu</th>\n",
       "      <td>0.019853</td>\n",
       "      <td>0.012329</td>\n",
       "      <td>0.022332</td>\n",
       "      <td>0.0</td>\n",
       "    </tr>\n",
       "    <tr>\n",
       "      <th>Pahari</th>\n",
       "      <td>0.019853</td>\n",
       "      <td>0.269204</td>\n",
       "      <td>0.064370</td>\n",
       "      <td>0.0</td>\n",
       "    </tr>\n",
       "    <tr>\n",
       "      <th>Kathbaniyan</th>\n",
       "      <td>0.019853</td>\n",
       "      <td>0.002341</td>\n",
       "      <td>0.005255</td>\n",
       "      <td>0.0</td>\n",
       "    </tr>\n",
       "    <tr>\n",
       "      <th>Rajbansi</th>\n",
       "      <td>0.016544</td>\n",
       "      <td>0.001561</td>\n",
       "      <td>0.014450</td>\n",
       "      <td>0.0</td>\n",
       "    </tr>\n",
       "    <tr>\n",
       "      <th>Rajput</th>\n",
       "      <td>0.013235</td>\n",
       "      <td>0.001405</td>\n",
       "      <td>0.014450</td>\n",
       "      <td>0.0</td>\n",
       "    </tr>\n",
       "    <tr>\n",
       "      <th>Lohar</th>\n",
       "      <td>0.013235</td>\n",
       "      <td>0.010612</td>\n",
       "      <td>0.007882</td>\n",
       "      <td>0.0</td>\n",
       "    </tr>\n",
       "    <tr>\n",
       "      <th>Kumhar</th>\n",
       "      <td>0.013235</td>\n",
       "      <td>0.009988</td>\n",
       "      <td>0.010509</td>\n",
       "      <td>0.0</td>\n",
       "    </tr>\n",
       "    <tr>\n",
       "      <th>Koiri/Kushwaha</th>\n",
       "      <td>0.009927</td>\n",
       "      <td>0.006242</td>\n",
       "      <td>0.017078</td>\n",
       "      <td>0.0</td>\n",
       "    </tr>\n",
       "    <tr>\n",
       "      <th>Kurmi</th>\n",
       "      <td>0.009927</td>\n",
       "      <td>0.003121</td>\n",
       "      <td>0.005255</td>\n",
       "      <td>0.0</td>\n",
       "    </tr>\n",
       "    <tr>\n",
       "      <th>Khawas</th>\n",
       "      <td>0.009927</td>\n",
       "      <td>0.011861</td>\n",
       "      <td>0.013137</td>\n",
       "      <td>0.0</td>\n",
       "    </tr>\n",
       "    <tr>\n",
       "      <th>Haluwai</th>\n",
       "      <td>0.009927</td>\n",
       "      <td>0.004682</td>\n",
       "      <td>0.009196</td>\n",
       "      <td>0.0</td>\n",
       "    </tr>\n",
       "    <tr>\n",
       "      <th>Badi</th>\n",
       "      <td>0.009927</td>\n",
       "      <td>0.009988</td>\n",
       "      <td>0.009196</td>\n",
       "      <td>0.0</td>\n",
       "    </tr>\n",
       "    <tr>\n",
       "      <th>Hajam/Thakur</th>\n",
       "      <td>0.006618</td>\n",
       "      <td>0.009676</td>\n",
       "      <td>0.015764</td>\n",
       "      <td>0.0</td>\n",
       "    </tr>\n",
       "    <tr>\n",
       "      <th>Gaine</th>\n",
       "      <td>0.006618</td>\n",
       "      <td>0.005150</td>\n",
       "      <td>0.013137</td>\n",
       "      <td>0.0</td>\n",
       "    </tr>\n",
       "    <tr>\n",
       "      <th>Baraee</th>\n",
       "      <td>0.006618</td>\n",
       "      <td>0.027311</td>\n",
       "      <td>0.014450</td>\n",
       "      <td>0.0</td>\n",
       "    </tr>\n",
       "    <tr>\n",
       "      <th>Badhaee</th>\n",
       "      <td>0.003309</td>\n",
       "      <td>0.004526</td>\n",
       "      <td>0.005255</td>\n",
       "      <td>0.0</td>\n",
       "    </tr>\n",
       "    <tr>\n",
       "      <th>Musahar</th>\n",
       "      <td>0.003309</td>\n",
       "      <td>0.070383</td>\n",
       "      <td>0.013137</td>\n",
       "      <td>0.0</td>\n",
       "    </tr>\n",
       "    <tr>\n",
       "      <th>Gaderi/Bhedhar</th>\n",
       "      <td>0.003309</td>\n",
       "      <td>0.001717</td>\n",
       "      <td>0.000000</td>\n",
       "      <td>0.0</td>\n",
       "    </tr>\n",
       "    <tr>\n",
       "      <th>Satar/Santhal</th>\n",
       "      <td>0.003309</td>\n",
       "      <td>0.000156</td>\n",
       "      <td>0.000000</td>\n",
       "      <td>0.0</td>\n",
       "    </tr>\n",
       "    <tr>\n",
       "      <th>Mewahang Bala</th>\n",
       "      <td>0.003309</td>\n",
       "      <td>0.000000</td>\n",
       "      <td>0.000000</td>\n",
       "      <td>0.0</td>\n",
       "    </tr>\n",
       "    <tr>\n",
       "      <th>Meche</th>\n",
       "      <td>0.003309</td>\n",
       "      <td>0.000156</td>\n",
       "      <td>0.000000</td>\n",
       "      <td>0.0</td>\n",
       "    </tr>\n",
       "    <tr>\n",
       "      <th>Tatma/Tatwa</th>\n",
       "      <td>0.003309</td>\n",
       "      <td>0.000312</td>\n",
       "      <td>0.002627</td>\n",
       "      <td>0.0</td>\n",
       "    </tr>\n",
       "    <tr>\n",
       "      <th>Raute</th>\n",
       "      <td>0.000000</td>\n",
       "      <td>0.001717</td>\n",
       "      <td>0.001314</td>\n",
       "      <td>0.0</td>\n",
       "    </tr>\n",
       "    <tr>\n",
       "      <th>Nuniya</th>\n",
       "      <td>0.000000</td>\n",
       "      <td>0.002185</td>\n",
       "      <td>0.005255</td>\n",
       "      <td>0.0</td>\n",
       "    </tr>\n",
       "    <tr>\n",
       "      <th>Yakkha</th>\n",
       "      <td>0.000000</td>\n",
       "      <td>0.000000</td>\n",
       "      <td>0.001314</td>\n",
       "      <td>0.0</td>\n",
       "    </tr>\n",
       "    <tr>\n",
       "      <th>Thakali</th>\n",
       "      <td>0.000000</td>\n",
       "      <td>0.001092</td>\n",
       "      <td>0.001314</td>\n",
       "      <td>0.0</td>\n",
       "    </tr>\n",
       "    <tr>\n",
       "      <th>Pattharkatta/Kushwadiya</th>\n",
       "      <td>0.000000</td>\n",
       "      <td>0.000156</td>\n",
       "      <td>0.000000</td>\n",
       "      <td>0.0</td>\n",
       "    </tr>\n",
       "    <tr>\n",
       "      <th>Samgpang</th>\n",
       "      <td>0.000000</td>\n",
       "      <td>0.000468</td>\n",
       "      <td>0.000000</td>\n",
       "      <td>0.0</td>\n",
       "    </tr>\n",
       "    <tr>\n",
       "      <th>Natuwa</th>\n",
       "      <td>0.000000</td>\n",
       "      <td>0.000156</td>\n",
       "      <td>0.000000</td>\n",
       "      <td>0.0</td>\n",
       "    </tr>\n",
       "    <tr>\n",
       "      <th>Khatwe</th>\n",
       "      <td>0.000000</td>\n",
       "      <td>0.000312</td>\n",
       "      <td>0.001314</td>\n",
       "      <td>0.0</td>\n",
       "    </tr>\n",
       "    <tr>\n",
       "      <th>Mallaha</th>\n",
       "      <td>0.000000</td>\n",
       "      <td>0.004838</td>\n",
       "      <td>0.006568</td>\n",
       "      <td>0.0</td>\n",
       "    </tr>\n",
       "    <tr>\n",
       "      <th>Mali</th>\n",
       "      <td>0.000000</td>\n",
       "      <td>0.000468</td>\n",
       "      <td>0.000000</td>\n",
       "      <td>0.0</td>\n",
       "    </tr>\n",
       "    <tr>\n",
       "      <th>Bahing</th>\n",
       "      <td>0.000000</td>\n",
       "      <td>0.000312</td>\n",
       "      <td>0.001314</td>\n",
       "      <td>0.0</td>\n",
       "    </tr>\n",
       "    <tr>\n",
       "      <th>Bangali</th>\n",
       "      <td>0.000000</td>\n",
       "      <td>0.001873</td>\n",
       "      <td>0.003941</td>\n",
       "      <td>0.0</td>\n",
       "    </tr>\n",
       "    <tr>\n",
       "      <th>Bantar/Sardar</th>\n",
       "      <td>0.000000</td>\n",
       "      <td>0.000156</td>\n",
       "      <td>0.000000</td>\n",
       "      <td>0.0</td>\n",
       "    </tr>\n",
       "    <tr>\n",
       "      <th>Bin</th>\n",
       "      <td>0.000000</td>\n",
       "      <td>0.001092</td>\n",
       "      <td>0.001314</td>\n",
       "      <td>0.0</td>\n",
       "    </tr>\n",
       "    <tr>\n",
       "      <th>Bote</th>\n",
       "      <td>0.000000</td>\n",
       "      <td>0.003589</td>\n",
       "      <td>0.000000</td>\n",
       "      <td>0.0</td>\n",
       "    </tr>\n",
       "    <tr>\n",
       "      <th>Byasi/Sauka</th>\n",
       "      <td>0.000000</td>\n",
       "      <td>0.000156</td>\n",
       "      <td>0.000000</td>\n",
       "      <td>0.0</td>\n",
       "    </tr>\n",
       "    <tr>\n",
       "      <th>Chamar/Harijan/Ram</th>\n",
       "      <td>0.000000</td>\n",
       "      <td>0.002809</td>\n",
       "      <td>0.001314</td>\n",
       "      <td>0.0</td>\n",
       "    </tr>\n",
       "    <tr>\n",
       "      <th>Chamling</th>\n",
       "      <td>0.000000</td>\n",
       "      <td>0.000312</td>\n",
       "      <td>0.000000</td>\n",
       "      <td>0.0</td>\n",
       "    </tr>\n",
       "    <tr>\n",
       "      <th>Dev</th>\n",
       "      <td>0.000000</td>\n",
       "      <td>0.000156</td>\n",
       "      <td>0.000000</td>\n",
       "      <td>0.0</td>\n",
       "    </tr>\n",
       "    <tr>\n",
       "      <th>Dhanuk</th>\n",
       "      <td>0.000000</td>\n",
       "      <td>0.002497</td>\n",
       "      <td>0.010509</td>\n",
       "      <td>0.0</td>\n",
       "    </tr>\n",
       "    <tr>\n",
       "      <th>Dhimal</th>\n",
       "      <td>0.000000</td>\n",
       "      <td>0.000468</td>\n",
       "      <td>0.000000</td>\n",
       "      <td>0.0</td>\n",
       "    </tr>\n",
       "    <tr>\n",
       "      <th>Dhobi</th>\n",
       "      <td>0.000000</td>\n",
       "      <td>0.002185</td>\n",
       "      <td>0.001314</td>\n",
       "      <td>0.0</td>\n",
       "    </tr>\n",
       "    <tr>\n",
       "      <th>Dom</th>\n",
       "      <td>0.000000</td>\n",
       "      <td>0.006086</td>\n",
       "      <td>0.045978</td>\n",
       "      <td>0.0</td>\n",
       "    </tr>\n",
       "    <tr>\n",
       "      <th>Dusadh/Pasawan/Pasi</th>\n",
       "      <td>0.000000</td>\n",
       "      <td>0.000780</td>\n",
       "      <td>0.002627</td>\n",
       "      <td>0.0</td>\n",
       "    </tr>\n",
       "    <tr>\n",
       "      <th>Kahar</th>\n",
       "      <td>0.000000</td>\n",
       "      <td>0.000156</td>\n",
       "      <td>0.000000</td>\n",
       "      <td>0.0</td>\n",
       "    </tr>\n",
       "    <tr>\n",
       "      <th>Kalar</th>\n",
       "      <td>0.000000</td>\n",
       "      <td>0.000312</td>\n",
       "      <td>0.000000</td>\n",
       "      <td>0.0</td>\n",
       "    </tr>\n",
       "    <tr>\n",
       "      <th>Kewat</th>\n",
       "      <td>0.000000</td>\n",
       "      <td>0.000936</td>\n",
       "      <td>0.006568</td>\n",
       "      <td>0.0</td>\n",
       "    </tr>\n",
       "    <tr>\n",
       "      <th>Amat</th>\n",
       "      <td>0.000000</td>\n",
       "      <td>0.001092</td>\n",
       "      <td>0.001314</td>\n",
       "      <td>0.0</td>\n",
       "    </tr>\n",
       "    <tr>\n",
       "      <th>Koche</th>\n",
       "      <td>0.000000</td>\n",
       "      <td>0.000156</td>\n",
       "      <td>0.000000</td>\n",
       "      <td>0.0</td>\n",
       "    </tr>\n",
       "    <tr>\n",
       "      <th>Kori</th>\n",
       "      <td>0.000000</td>\n",
       "      <td>0.000468</td>\n",
       "      <td>0.001314</td>\n",
       "      <td>0.0</td>\n",
       "    </tr>\n",
       "    <tr>\n",
       "      <th>Kusunda</th>\n",
       "      <td>0.000000</td>\n",
       "      <td>0.000468</td>\n",
       "      <td>0.000000</td>\n",
       "      <td>0.0</td>\n",
       "    </tr>\n",
       "    <tr>\n",
       "      <th>Lepcha</th>\n",
       "      <td>0.000000</td>\n",
       "      <td>0.000312</td>\n",
       "      <td>0.001314</td>\n",
       "      <td>0.0</td>\n",
       "    </tr>\n",
       "    <tr>\n",
       "      <th>Lhopa</th>\n",
       "      <td>0.000000</td>\n",
       "      <td>0.000780</td>\n",
       "      <td>0.000000</td>\n",
       "      <td>0.0</td>\n",
       "    </tr>\n",
       "    <tr>\n",
       "      <th>no_familias</th>\n",
       "      <td>0.000000</td>\n",
       "      <td>0.000000</td>\n",
       "      <td>0.000000</td>\n",
       "      <td>100.0</td>\n",
       "    </tr>\n",
       "  </tbody>\n",
       "</table>\n",
       "</div>"
      ],
      "text/plain": [
       "income_level_household        High        Low     Medium  no_familias\n",
       "caste_household                                                      \n",
       "Brahman-Hill             24.356429  13.323939  22.315200          0.0\n",
       "Tamang                   20.455297  29.078668  21.746384          0.0\n",
       "Chhetree                 19.151611  16.914256  18.680294          0.0\n",
       "Newar                    14.320694   8.497626  12.897547          0.0\n",
       "Magar                     4.533122   6.260349   5.037899          0.0\n",
       "Gurung                    4.053339   3.361065   3.533755          0.0\n",
       "Kami                      2.021706   3.602334   2.635209          0.0\n",
       "Sherpa                    1.571703   1.334001   1.115300          0.0\n",
       "Rai                       1.105155   1.522210   1.293958          0.0\n",
       "Ghale                     0.992654   0.713507   0.738279          0.0\n",
       "Sarki                     0.972801   3.122137   1.636825          0.0\n",
       "Damai/Dholi               0.833830   2.209810   1.341250          0.0\n",
       "Thakuri                   0.754417   0.546834   0.672596          0.0\n",
       "Sanyasi/Dashnami          0.493018   0.685104   0.537288          0.0\n",
       "Sunuwar                   0.463239   1.041233   0.546484          0.0\n",
       "Gharti/Bhujel             0.393753   0.801837   0.495251          0.0\n",
       "Danuwar                   0.390444   0.920910   0.852568          0.0\n",
       "0thers                    0.387135   0.456164   0.379649          0.0\n",
       "Majhi                     0.297796   1.071976   0.444018          0.0\n",
       "Hyolmo                    0.274634   0.131715   0.155012          0.0\n",
       "Jirel                     0.241546   0.238928   0.207559          0.0\n",
       "Musalman                  0.241546   0.147789   0.182599          0.0\n",
       "Kumal                     0.208457   0.583040   0.508388          0.0\n",
       "Thami                     0.191913   1.051689   0.715947          0.0\n",
       "Brahman-Tarai             0.188604   0.055557   0.151071          0.0\n",
       "Chepang/Praja             0.109192   1.114425   0.137935          0.0\n",
       "Sonar                     0.105883   0.095665   0.089329          0.0\n",
       "Kamar                     0.095957   0.078498   0.043351          0.0\n",
       "Sudhi                     0.089339   0.015138   0.081447          0.0\n",
       "Brahmu/Baramo             0.066177   0.140142   0.068310          0.0\n",
       "Tharu                     0.062868   0.030432   0.061742          0.0\n",
       "Bhote                     0.059559   0.145916   0.038096          0.0\n",
       "Kalwar                    0.052942   0.015918   0.032842          0.0\n",
       "Hayu                      0.046324   0.063985   0.059115          0.0\n",
       "Teli                      0.046324   0.012641   0.035469          0.0\n",
       "Yadav                     0.033088   0.018883   0.061742          0.0\n",
       "Marwadi                   0.029780   0.002185   0.023646          0.0\n",
       "Jhangad/Dhagar            0.029780   0.020444   0.007882          0.0\n",
       "Darai                     0.026471   0.061800   0.055174          0.0\n",
       "Kanu                      0.023162   0.004838   0.015764          0.0\n",
       "Kayastha                  0.019853   0.005150   0.014450          0.0\n",
       "Limbu                     0.019853   0.012329   0.022332          0.0\n",
       "Pahari                    0.019853   0.269204   0.064370          0.0\n",
       "Kathbaniyan               0.019853   0.002341   0.005255          0.0\n",
       "Rajbansi                  0.016544   0.001561   0.014450          0.0\n",
       "Rajput                    0.013235   0.001405   0.014450          0.0\n",
       "Lohar                     0.013235   0.010612   0.007882          0.0\n",
       "Kumhar                    0.013235   0.009988   0.010509          0.0\n",
       "Koiri/Kushwaha            0.009927   0.006242   0.017078          0.0\n",
       "Kurmi                     0.009927   0.003121   0.005255          0.0\n",
       "Khawas                    0.009927   0.011861   0.013137          0.0\n",
       "Haluwai                   0.009927   0.004682   0.009196          0.0\n",
       "Badi                      0.009927   0.009988   0.009196          0.0\n",
       "Hajam/Thakur              0.006618   0.009676   0.015764          0.0\n",
       "Gaine                     0.006618   0.005150   0.013137          0.0\n",
       "Baraee                    0.006618   0.027311   0.014450          0.0\n",
       "Badhaee                   0.003309   0.004526   0.005255          0.0\n",
       "Musahar                   0.003309   0.070383   0.013137          0.0\n",
       "Gaderi/Bhedhar            0.003309   0.001717   0.000000          0.0\n",
       "Satar/Santhal             0.003309   0.000156   0.000000          0.0\n",
       "Mewahang Bala             0.003309   0.000000   0.000000          0.0\n",
       "Meche                     0.003309   0.000156   0.000000          0.0\n",
       "Tatma/Tatwa               0.003309   0.000312   0.002627          0.0\n",
       "Raute                     0.000000   0.001717   0.001314          0.0\n",
       "Nuniya                    0.000000   0.002185   0.005255          0.0\n",
       "Yakkha                    0.000000   0.000000   0.001314          0.0\n",
       "Thakali                   0.000000   0.001092   0.001314          0.0\n",
       "Pattharkatta/Kushwadiya   0.000000   0.000156   0.000000          0.0\n",
       "Samgpang                  0.000000   0.000468   0.000000          0.0\n",
       "Natuwa                    0.000000   0.000156   0.000000          0.0\n",
       "Khatwe                    0.000000   0.000312   0.001314          0.0\n",
       "Mallaha                   0.000000   0.004838   0.006568          0.0\n",
       "Mali                      0.000000   0.000468   0.000000          0.0\n",
       "Bahing                    0.000000   0.000312   0.001314          0.0\n",
       "Bangali                   0.000000   0.001873   0.003941          0.0\n",
       "Bantar/Sardar             0.000000   0.000156   0.000000          0.0\n",
       "Bin                       0.000000   0.001092   0.001314          0.0\n",
       "Bote                      0.000000   0.003589   0.000000          0.0\n",
       "Byasi/Sauka               0.000000   0.000156   0.000000          0.0\n",
       "Chamar/Harijan/Ram        0.000000   0.002809   0.001314          0.0\n",
       "Chamling                  0.000000   0.000312   0.000000          0.0\n",
       "Dev                       0.000000   0.000156   0.000000          0.0\n",
       "Dhanuk                    0.000000   0.002497   0.010509          0.0\n",
       "Dhimal                    0.000000   0.000468   0.000000          0.0\n",
       "Dhobi                     0.000000   0.002185   0.001314          0.0\n",
       "Dom                       0.000000   0.006086   0.045978          0.0\n",
       "Dusadh/Pasawan/Pasi       0.000000   0.000780   0.002627          0.0\n",
       "Kahar                     0.000000   0.000156   0.000000          0.0\n",
       "Kalar                     0.000000   0.000312   0.000000          0.0\n",
       "Kewat                     0.000000   0.000936   0.006568          0.0\n",
       "Amat                      0.000000   0.001092   0.001314          0.0\n",
       "Koche                     0.000000   0.000156   0.000000          0.0\n",
       "Kori                      0.000000   0.000468   0.001314          0.0\n",
       "Kusunda                   0.000000   0.000468   0.000000          0.0\n",
       "Lepcha                    0.000000   0.000312   0.001314          0.0\n",
       "Lhopa                     0.000000   0.000780   0.000000          0.0\n",
       "no_familias               0.000000   0.000000   0.000000        100.0"
      ]
     },
     "execution_count": 44,
     "metadata": {},
     "output_type": "execute_result"
    }
   ],
   "source": [
    "by_high = castas_income.sort_values('High', ascending=False)\n",
    "by_high"
   ]
  },
  {
   "cell_type": "markdown",
   "metadata": {},
   "source": [
    "Castas mayoritarias: Tamang, Chhetree, Brahman-Hill y Newar , pero en ellas no hay muchas diferencias entre grados\n",
    "Hay algunas castas que si se ve alguna diferencia pero tienen muy poca frecuencia, asi que agrupamos"
   ]
  },
  {
   "cell_type": "code",
   "execution_count": 45,
   "metadata": {},
   "outputs": [],
   "source": [
    "df[\"caste_household\"].replace([\n",
    " 'Thami',\n",
    " 'Majhi',\n",
    " 'Chepang/Praja',\n",
    " 'Sunuwar',\n",
    " 'Danuwar',\n",
    " 'Gharti/Bhujel',\n",
    " 'Ghale',\n",
    " 'Sanyasi/Dashnami',\n",
    " 'Thakuri',\n",
    " 'Kumal',\n",
    " '0thers',\n",
    " 'Pahari',\n",
    " 'Jirel',\n",
    " 'Musalman',\n",
    " 'Hyolmo',\n",
    " 'Bhote',\n",
    " 'Brahmu/Baramo',\n",
    " 'Sonar',\n",
    " 'Kamar',\n",
    " 'Brahman-Tarai',\n",
    " 'Hayu',\n",
    " 'Musahar',\n",
    " 'Darai',\n",
    " 'Tharu',\n",
    " 'Baraee',\n",
    " 'Sudhi',\n",
    " 'Yadav',\n",
    " 'Jhangad/Dhagar',\n",
    " 'Kalwar',\n",
    " 'Teli',\n",
    " 'Limbu',\n",
    " 'Khawas',\n",
    " 'Lohar',\n",
    " 'Kumhar',\n",
    " 'Hajam/Thakur',\n",
    " 'Badi',\n",
    " 'Dom',\n",
    " 'Koiri/Kushwaha',\n",
    " 'Kayastha',\n",
    " 'Kanu',\n",
    " 'Gaine',\n",
    " 'Marwadi',\n",
    " 'Haluwai',\n",
    " 'Mallaha',\n",
    " 'Badhaee',\n",
    " 'Kurmi',\n",
    " 'Rajbansi',\n",
    " 'Kathbaniyan',\n",
    " 'Dhanuk',\n",
    " 'Rajput',\n",
    " 'Bote',\n",
    " 'Chamar/Harijan/Ram',\n",
    " 'Nuniya',\n",
    " 'Dhobi',\n",
    " 'Bangali',\n",
    " 'Gaderi/Bhedhar',\n",
    " 'Raute',\n",
    " 'Kewat',\n",
    " 'Amat',\n",
    " 'Bin',\n",
    " 'Thakali',\n",
    " 'Dusadh/Pasawan/Pasi',\n",
    " 'Lhopa',\n",
    " 'Tatma/Tatwa',\n",
    " 'Kori',\n",
    " 'Dhimal',\n",
    " 'Bahing',\n",
    " 'Mali',\n",
    " 'Kusunda',\n",
    " 'Khatwe',\n",
    " 'Lepcha',\n",
    " 'Samgpang',\n",
    " 'Meche',\n",
    " 'Chamling',\n",
    " 'Kalar',\n",
    " 'Satar/Santhal',\n",
    " 'Kahar',\n",
    " 'Natuwa',\n",
    " 'Mewahang Bala',\n",
    " 'Bantar/Sardar',\n",
    " 'Yakkha',\n",
    " 'Byasi/Sauka',\n",
    " 'Pattharkatta/Kushwadiya',\n",
    " 'Koche',\n",
    " 'Dev'], \"Other\", regex=True, inplace= True)"
   ]
  },
  {
   "cell_type": "code",
   "execution_count": 46,
   "metadata": {},
   "outputs": [
    {
     "name": "stdout",
     "output_type": "stream",
     "text": [
      "damage_grade     High-Severe  Low-Medium\n",
      "caste_household                         \n",
      "Brahman-Hill       13.423607   13.369830\n",
      "Chhetree           16.805921   13.963928\n",
      "Damai/Dholi         2.052459    1.629058\n",
      "Gurung              3.696648    2.209871\n",
      "Kami                3.330195    2.846912\n",
      "Magar               4.456826    7.185403\n",
      "Newar               7.910653    9.094673\n",
      "Other               9.535449    9.190136\n",
      "Rai                 0.876739    2.080115\n",
      "Sarki               2.822939    2.339319\n",
      "Sherpa              1.486013    0.777301\n",
      "Tamang             26.069864   24.720406\n",
      "no_familias         7.532686   10.593048\n"
     ]
    }
   ],
   "source": [
    "print(pd.crosstab(index=df[\"caste_household\"], columns=df['damage_grade']\n",
    "    ).apply(lambda r: r/r.sum() *100,axis=0))"
   ]
  },
  {
   "cell_type": "markdown",
   "metadata": {},
   "source": [
    "Vemos como han quedado las categorías:"
   ]
  },
  {
   "cell_type": "code",
   "execution_count": 47,
   "metadata": {},
   "outputs": [
    {
     "name": "stdout",
     "output_type": "stream",
     "text": [
      "Categorías de land_surface_condition : ['Flat' 'No Flat']\n",
      "\n",
      "Categorías de foundation_type : ['others' 'Mud mortar-Stone/Brick']\n",
      "\n",
      "Categorías de roof_type : ['Bamboo/Timber-Light roof' 'Bamboo/Timber-Heavy roof' 'RCC/RB/RBC']\n",
      "\n",
      "Categorías de ground_floor_type : ['Mud' 'others' 'RC']\n",
      "\n",
      "Categorías de other_floor_type : ['Not applicable' 'Timber' 'RCC/RB/RBC']\n",
      "\n",
      "Categorías de position : ['Not attached' 'Attached-1 side' 'Attached >1 side']\n",
      "\n",
      "Categorías de plan_configuration : ['Rectangular' 'L-shape' 'other']\n",
      "\n",
      "Categorías de damage_grade : ['Low-Medium' 'High-Severe']\n",
      "\n",
      "Categorías de legal_ownership_status : ['Private' 'No Private']\n",
      "\n",
      "Categorías de gender_household_head : ['Male' 'Female' 'no_familias']\n",
      "\n",
      "Categorías de caste_household : ['Rai' 'Other' 'Brahman-Hill' 'no_familias' 'Chhetree' 'Tamang' 'Kami'\n",
      " 'Newar' 'Gurung' 'Magar' 'Sarki' 'Damai/Dholi' 'Sherpa']\n",
      "\n",
      "Categorías de education_level_household_head : ['Illiterate' 'Low' 'Medium' 'no_familias' 'High']\n",
      "\n",
      "Categorías de income_level_household : ['Low' 'Medium' 'no_familias' 'High']\n",
      "\n"
     ]
    }
   ],
   "source": [
    "for var in df.describe(include=\"object\"):\n",
    "    print('Categorías de', var, ':',df[var].unique())\n",
    "    print('')"
   ]
  },
  {
   "cell_type": "markdown",
   "metadata": {},
   "source": [
    "## Variables Booleanas"
   ]
  },
  {
   "cell_type": "code",
   "execution_count": 48,
   "metadata": {},
   "outputs": [],
   "source": [
    "df_numerical = df.select_dtypes(include=[np.number])\n",
    "df_bool = df_numerical.loc[:,df_numerical.nunique()==2]"
   ]
  },
  {
   "cell_type": "code",
   "execution_count": 49,
   "metadata": {},
   "outputs": [
    {
     "data": {
      "text/plain": [
       "has_superstructure_adobe_mud              int64\n",
       "has_superstructure_mud_mortar_stone       int64\n",
       "has_superstructure_stone_flag             int64\n",
       "has_superstructure_cement_mortar_stone    int64\n",
       "has_superstructure_mud_mortar_brick       int64\n",
       "has_superstructure_cement_mortar_brick    int64\n",
       "has_superstructure_timber                 int64\n",
       "has_superstructure_bamboo                 int64\n",
       "has_superstructure_rc_non_engineered      int64\n",
       "has_superstructure_rc_engineered          int64\n",
       "has_superstructure_other                  int64\n",
       "has_secondary_use                         int64\n",
       "has_secondary_use_agriculture             int64\n",
       "has_secondary_use_hotel                   int64\n",
       "has_secondary_use_rental                  int64\n",
       "has_secondary_use_institution             int64\n",
       "has_secondary_use_school                  int64\n",
       "has_secondary_use_industry                int64\n",
       "has_secondary_use_gov_office              int64\n",
       "has_secondary_use_use_police              int64\n",
       "has_secondary_use_other                   int64\n",
       "is_bank_account_present_in_household      int64\n",
       "dtype: object"
      ]
     },
     "execution_count": 49,
     "metadata": {},
     "output_type": "execute_result"
    }
   ],
   "source": [
    "df_bool.dtypes"
   ]
  },
  {
   "cell_type": "markdown",
   "metadata": {},
   "source": [
    "### Has secondary use_X: las eliminamos"
   ]
  },
  {
   "cell_type": "markdown",
   "metadata": {},
   "source": [
    "Hay 101.642 edificios que tienen un uso secundario, de los cuales:\n",
    "- Rental = 9.086 \n",
    "- Institution = 939\n",
    "- Industry = 924\n",
    "- Police = 73\n",
    "- Goverment = 162\n",
    "- Other use = 3641\n",
    "- School = 339\n",
    "- Agricultura = 57833 -> medium + high\n",
    "- Hotel = 29905\n",
    "\n",
    "Hay 180 edificios que al menos tienen 2 usos\n",
    "\n",
    "Los edificios que SI tienen un uso secundario son los edificios menos dañados por lo general. \n",
    "Si lo vemos por uso secundario específico, podemos decir que los que tienen un uso secundario tienen menos daño, \n",
    "a excepcion de agricultura, que se ve un poco más repartido\n",
    "Eliminamos esas variables. Al dejar \"has secondario use\", si es 1  ya nos dice que tiene relacion con el nivel de daño."
   ]
  },
  {
   "cell_type": "code",
   "execution_count": 50,
   "metadata": {},
   "outputs": [
    {
     "data": {
      "image/png": "[encoded data removed]",
      "text/plain": [
       "<Figure size 432x288 with 1 Axes>"
      ]
     },
     "metadata": {
      "needs_background": "light"
     },
     "output_type": "display_data"
    },
    {
     "name": "stdout",
     "output_type": "stream",
     "text": [
      "damage_grade       High-Severe  Low-Medium\n",
      "has_secondary_use                         \n",
      "0                    90.132238   83.689339\n",
      "1                     9.867762   16.310661\n",
      "\n"
     ]
    }
   ],
   "source": [
    "df[\"has_secondary_use\"].value_counts().plot(kind='bar', title=\"has_secondary_use\")\n",
    "plt.show()\n",
    "print(pd.crosstab(index=df[\"has_secondary_use\"], columns=df['damage_grade']\n",
    "    ).apply(lambda r: r/r.sum() *100,axis=0))\n",
    "print('')"
   ]
  },
  {
   "cell_type": "code",
   "execution_count": 51,
   "metadata": {},
   "outputs": [
    {
     "data": {
      "image/png": "[encoded data removed]",
      "text/plain": [
       "<Figure size 432x288 with 1 Axes>"
      ]
     },
     "metadata": {
      "needs_background": "light"
     },
     "output_type": "display_data"
    },
    {
     "name": "stdout",
     "output_type": "stream",
     "text": [
      "damage_grade                   High-Severe  Low-Medium\n",
      "has_secondary_use_agriculture                         \n",
      "0                                92.596401   93.455345\n",
      "1                                 7.403599    6.544655\n",
      "\n"
     ]
    }
   ],
   "source": [
    "df[\"has_secondary_use_agriculture\"].value_counts().plot(kind='bar', title=\"has_secondary_use_agriculture\")\n",
    "plt.show()\n",
    "print(pd.crosstab(index=df[\"has_secondary_use_agriculture\"], columns=df['damage_grade']\n",
    "    ).apply(lambda r: r/r.sum() *100,axis=0))\n",
    "print('')"
   ]
  },
  {
   "cell_type": "code",
   "execution_count": 52,
   "metadata": {},
   "outputs": [
    {
     "data": {
      "image/png": "[encoded data removed]",
      "text/plain": [
       "<Figure size 432x288 with 1 Axes>"
      ]
     },
     "metadata": {
      "needs_background": "light"
     },
     "output_type": "display_data"
    },
    {
     "name": "stdout",
     "output_type": "stream",
     "text": [
      "damage_grade             High-Severe  Low-Medium\n",
      "has_secondary_use_hotel                         \n",
      "0                          98.079658   93.697866\n",
      "1                           1.920342    6.302134\n",
      "\n"
     ]
    }
   ],
   "source": [
    "df[\"has_secondary_use_hotel\"].value_counts().plot(kind='bar', title=\"has_secondary_use_hotel\")\n",
    "plt.show()\n",
    "print(pd.crosstab(index=df[\"has_secondary_use_hotel\"], columns=df['damage_grade']\n",
    "    ).apply(lambda r: r/r.sum() *100,axis=0))\n",
    "print('')"
   ]
  },
  {
   "cell_type": "code",
   "execution_count": 53,
   "metadata": {},
   "outputs": [
    {
     "data": {
      "image/png": "[encoded data removed]",
      "text/plain": [
       "<Figure size 432x288 with 1 Axes>"
      ]
     },
     "metadata": {
      "needs_background": "light"
     },
     "output_type": "display_data"
    },
    {
     "name": "stdout",
     "output_type": "stream",
     "text": [
      "damage_grade              High-Severe  Low-Medium\n",
      "has_secondary_use_rental                         \n",
      "0                           99.785057   97.521657\n",
      "1                            0.214943    2.478343\n",
      "\n"
     ]
    }
   ],
   "source": [
    "df[\"has_secondary_use_rental\"].value_counts().plot(kind='bar', title=\"has_secondary_use_rental\")\n",
    "plt.show()\n",
    "print(pd.crosstab(index=df[\"has_secondary_use_rental\"], columns=df['damage_grade']\n",
    "    ).apply(lambda r: r/r.sum() *100,axis=0))\n",
    "print('')"
   ]
  },
  {
   "cell_type": "code",
   "execution_count": 54,
   "metadata": {},
   "outputs": [
    {
     "data": {
      "image/png": "[encoded data removed]",
      "text/plain": [
       "<Figure size 432x288 with 1 Axes>"
      ]
     },
     "metadata": {
      "needs_background": "light"
     },
     "output_type": "display_data"
    },
    {
     "name": "stdout",
     "output_type": "stream",
     "text": [
      "damage_grade                   High-Severe  Low-Medium\n",
      "has_secondary_use_institution                         \n",
      "0                                99.969294   99.756862\n",
      "1                                 0.030706    0.243138\n",
      "\n"
     ]
    }
   ],
   "source": [
    "df[\"has_secondary_use_institution\"].value_counts().plot(kind='bar', title=\"has_secondary_use_institution\")\n",
    "plt.show()\n",
    "print(pd.crosstab(index=df[\"has_secondary_use_institution\"], columns=df['damage_grade']\n",
    "    ).apply(lambda r: r/r.sum() *100,axis=0))\n",
    "print('')"
   ]
  },
  {
   "cell_type": "code",
   "execution_count": 55,
   "metadata": {},
   "outputs": [
    {
     "data": {
      "image/png": "[encoded data removed]",
      "text/plain": [
       "<Figure size 432x288 with 1 Axes>"
      ]
     },
     "metadata": {
      "needs_background": "light"
     },
     "output_type": "display_data"
    },
    {
     "name": "stdout",
     "output_type": "stream",
     "text": [
      "damage_grade              High-Severe  Low-Medium\n",
      "has_secondary_use_school                         \n",
      "0                           99.983233   99.920911\n",
      "1                            0.016767    0.079089\n",
      "\n"
     ]
    }
   ],
   "source": [
    "df[\"has_secondary_use_school\"].value_counts().plot(kind='bar', title=\"has_secondary_use_school\")\n",
    "plt.show()\n",
    "print(pd.crosstab(index=df[\"has_secondary_use_school\"], columns=df['damage_grade']\n",
    "    ).apply(lambda r: r/r.sum() *100,axis=0))\n",
    "print('')"
   ]
  },
  {
   "cell_type": "code",
   "execution_count": 56,
   "metadata": {},
   "outputs": [
    {
     "data": {
      "image/png": "[encoded data removed]",
      "text/plain": [
       "<Figure size 432x288 with 1 Axes>"
      ]
     },
     "metadata": {
      "needs_background": "light"
     },
     "output_type": "display_data"
    },
    {
     "name": "stdout",
     "output_type": "stream",
     "text": [
      "damage_grade                High-Severe  Low-Medium\n",
      "has_secondary_use_industry                         \n",
      "0                              99.91778   99.840276\n",
      "1                               0.08222    0.159724\n",
      "\n"
     ]
    }
   ],
   "source": [
    "df[\"has_secondary_use_industry\"].value_counts().plot(kind='bar', title=\"has_secondary_use_industry\")\n",
    "plt.show()\n",
    "print(pd.crosstab(index=df[\"has_secondary_use_industry\"], columns=df['damage_grade']\n",
    "    ).apply(lambda r: r/r.sum() *100,axis=0))\n",
    "print('')"
   ]
  },
  {
   "cell_type": "code",
   "execution_count": 57,
   "metadata": {},
   "outputs": [
    {
     "data": {
      "image/png": "[encoded data removed]",
      "text/plain": [
       "<Figure size 432x288 with 1 Axes>"
      ]
     },
     "metadata": {
      "needs_background": "light"
     },
     "output_type": "display_data"
    },
    {
     "name": "stdout",
     "output_type": "stream",
     "text": [
      "damage_grade                  High-Severe  Low-Medium\n",
      "has_secondary_use_gov_office                         \n",
      "0                               99.991111   99.963545\n",
      "1                                0.008889    0.036455\n",
      "\n"
     ]
    }
   ],
   "source": [
    "df[\"has_secondary_use_gov_office\"].value_counts().plot(kind='bar', title=\"has_secondary_use_gov_office\")\n",
    "plt.show()\n",
    "print(pd.crosstab(index=df[\"has_secondary_use_gov_office\"], columns=df['damage_grade']\n",
    "    ).apply(lambda r: r/r.sum() *100,axis=0))\n",
    "print('')"
   ]
  },
  {
   "cell_type": "code",
   "execution_count": 58,
   "metadata": {},
   "outputs": [
    {
     "data": {
      "image/png": "[encoded data removed]",
      "text/plain": [
       "<Figure size 432x288 with 1 Axes>"
      ]
     },
     "metadata": {
      "needs_background": "light"
     },
     "output_type": "display_data"
    },
    {
     "name": "stdout",
     "output_type": "stream",
     "text": [
      "damage_grade                  High-Severe  Low-Medium\n",
      "has_secondary_use_use_police                         \n",
      "0                                99.99293    99.98826\n",
      "1                                 0.00707     0.01174\n",
      "\n"
     ]
    }
   ],
   "source": [
    "df[\"has_secondary_use_use_police\"].value_counts().plot(kind='bar', title=\"has_secondary_use_use_police\")\n",
    "plt.show()\n",
    "print(pd.crosstab(index=df[\"has_secondary_use_use_police\"], columns=df['damage_grade']\n",
    "    ).apply(lambda r: r/r.sum() *100,axis=0))\n",
    "print('')"
   ]
  },
  {
   "cell_type": "code",
   "execution_count": 59,
   "metadata": {},
   "outputs": [
    {
     "data": {
      "image/png": "[encoded data removed]",
      "text/plain": [
       "<Figure size 432x288 with 1 Axes>"
      ]
     },
     "metadata": {
      "needs_background": "light"
     },
     "output_type": "display_data"
    },
    {
     "name": "stdout",
     "output_type": "stream",
     "text": [
      "damage_grade             High-Severe  Low-Medium\n",
      "has_secondary_use_other                         \n",
      "0                          99.679202   99.365739\n",
      "1                           0.320798    0.634261\n",
      "\n"
     ]
    }
   ],
   "source": [
    "df[\"has_secondary_use_other\"].value_counts().plot(kind='bar', title=\"has_secondary_use_other\")\n",
    "plt.show()\n",
    "print(pd.crosstab(index=df[\"has_secondary_use_other\"], columns=df['damage_grade']\n",
    "    ).apply(lambda r: r/r.sum() *100,axis=0))\n",
    "print('')"
   ]
  },
  {
   "cell_type": "code",
   "execution_count": 60,
   "metadata": {},
   "outputs": [],
   "source": [
    "has_secondary_use_x= [i for i,x in enumerate(df.columns) if ('has_secondary_use_' in x)]\n",
    "df =df.drop(df.columns[has_secondary_use_x],axis=1)"
   ]
  },
  {
   "cell_type": "markdown",
   "metadata": {},
   "source": [
    "### Has Superstructure: las dejamos todas"
   ]
  },
  {
   "cell_type": "markdown",
   "metadata": {},
   "source": [
    "- \"superstucture de adobe_mud\": no hay diferencia\n",
    "- \"superstucture de mud_mortar_stone\": high-severe\n",
    "- \"superstucture de stone_flag\": high-severe\n",
    "- \"superstucture de cement_mortar_stone\": low-medium\n",
    "- \"superstucture de mud_mortar_brick\": low-medium\n",
    "- \"superstructure_cement_mortar_brick\": low-medium\n",
    "- \"superstucture de timber\": low\n",
    "- \"superstucture de bamboo\": low\n",
    "- \"superstucture de rc enginiered\": low\n",
    "- \"superstucture de rc enginiered\": low\n",
    "- \"superstucture de otra cosa\": low\n",
    "\n",
    "En resumen: \n",
    "Los edificios que tengan superestructura de MUD MORTAR STONE y STONE FLAG, están en los daños altos.\n",
    "\n",
    "El resto en los daños bajos"
   ]
  },
  {
   "cell_type": "code",
   "execution_count": 61,
   "metadata": {},
   "outputs": [
    {
     "data": {
      "text/plain": [
       "has_superstructure_adobe_mud              int64\n",
       "has_superstructure_mud_mortar_stone       int64\n",
       "has_superstructure_stone_flag             int64\n",
       "has_superstructure_cement_mortar_stone    int64\n",
       "has_superstructure_mud_mortar_brick       int64\n",
       "has_superstructure_cement_mortar_brick    int64\n",
       "has_superstructure_timber                 int64\n",
       "has_superstructure_bamboo                 int64\n",
       "has_superstructure_rc_non_engineered      int64\n",
       "has_superstructure_rc_engineered          int64\n",
       "has_superstructure_other                  int64\n",
       "has_secondary_use                         int64\n",
       "has_secondary_use_agriculture             int64\n",
       "has_secondary_use_hotel                   int64\n",
       "has_secondary_use_rental                  int64\n",
       "has_secondary_use_institution             int64\n",
       "has_secondary_use_school                  int64\n",
       "has_secondary_use_industry                int64\n",
       "has_secondary_use_gov_office              int64\n",
       "has_secondary_use_use_police              int64\n",
       "has_secondary_use_other                   int64\n",
       "is_bank_account_present_in_household      int64\n",
       "dtype: object"
      ]
     },
     "execution_count": 61,
     "metadata": {},
     "output_type": "execute_result"
    }
   ],
   "source": [
    "df_bool.dtypes"
   ]
  },
  {
   "cell_type": "code",
   "execution_count": 62,
   "metadata": {},
   "outputs": [
    {
     "data": {
      "image/png": "[encoded data removed]",
      "text/plain": [
       "<Figure size 432x288 with 1 Axes>"
      ]
     },
     "metadata": {
      "needs_background": "light"
     },
     "output_type": "display_data"
    },
    {
     "name": "stdout",
     "output_type": "stream",
     "text": [
      "damage_grade                  High-Severe  Low-Medium\n",
      "has_superstructure_adobe_mud                         \n",
      "0                               95.774884   95.610225\n",
      "1                                4.225116    4.389775\n",
      "\n"
     ]
    }
   ],
   "source": [
    "df[\"has_superstructure_adobe_mud\"].value_counts().plot(kind='bar', title=\"has_superstructure_adobe_mud\")\n",
    "plt.show()\n",
    "print(pd.crosstab(index=df[\"has_superstructure_adobe_mud\"], columns=df['damage_grade']\n",
    "    ).apply(lambda r: r/r.sum() *100,axis=0))\n",
    "print('')"
   ]
  },
  {
   "cell_type": "code",
   "execution_count": 63,
   "metadata": {},
   "outputs": [
    {
     "data": {
      "image/png": "[encoded data removed]",
      "text/plain": [
       "<Figure size 432x288 with 1 Axes>"
      ]
     },
     "metadata": {
      "needs_background": "light"
     },
     "output_type": "display_data"
    },
    {
     "name": "stdout",
     "output_type": "stream",
     "text": [
      "damage_grade                         High-Severe  Low-Medium\n",
      "has_superstructure_mud_mortar_stone                         \n",
      "0                                       7.259563   40.217311\n",
      "1                                      92.740437   59.782689\n",
      "\n"
     ]
    },
    {
     "data": {
      "text/plain": [
       "<seaborn.axisgrid.FacetGrid at 0x1a2c6402648>"
      ]
     },
     "execution_count": 63,
     "metadata": {},
     "output_type": "execute_result"
    },
    {
     "data": {
      "image/png": "[encoded data removed]",
      "text/plain": [
       "<Figure size 563.375x360 with 1 Axes>"
      ]
     },
     "metadata": {
      "needs_background": "light"
     },
     "output_type": "display_data"
    }
   ],
   "source": [
    "df[\"has_superstructure_mud_mortar_stone\"].value_counts().plot(kind='bar', title=\"has_superstructure_mud_mortar_stone\")\n",
    "plt.show()\n",
    "print(pd.crosstab(index=df[\"has_superstructure_mud_mortar_stone\"], columns=df['damage_grade']\n",
    "    ).apply(lambda r: r/r.sum() *100,axis=0))\n",
    "print('')\n",
    "order = sorted(df[\"damage_grade\"].unique()) \n",
    "sns.catplot(x = \"damage_grade\", data = df, kind = \"count\", hue = \"has_superstructure_mud_mortar_stone\", order=order)"
   ]
  },
  {
   "cell_type": "code",
   "execution_count": 64,
   "metadata": {},
   "outputs": [
    {
     "data": {
      "image/png": "[encoded data removed]",
      "text/plain": [
       "<Figure size 432x288 with 1 Axes>"
      ]
     },
     "metadata": {
      "needs_background": "light"
     },
     "output_type": "display_data"
    },
    {
     "name": "stdout",
     "output_type": "stream",
     "text": [
      "damage_grade                   High-Severe  Low-Medium\n",
      "has_superstructure_stone_flag                         \n",
      "0                                95.706401   97.713202\n",
      "1                                 4.293599    2.286798\n",
      "\n"
     ]
    }
   ],
   "source": [
    "df[\"has_superstructure_stone_flag\"].value_counts().plot(kind='bar', title=\"has_superstructure_stone_flag\")\n",
    "plt.show()\n",
    "print(pd.crosstab(index=df[\"has_superstructure_stone_flag\"], columns=df['damage_grade']\n",
    "    ).apply(lambda r: r/r.sum() *100,axis=0))\n",
    "print('')"
   ]
  },
  {
   "cell_type": "code",
   "execution_count": 65,
   "metadata": {},
   "outputs": [
    {
     "data": {
      "image/png": "[encoded data removed]",
      "text/plain": [
       "<Figure size 432x288 with 1 Axes>"
      ]
     },
     "metadata": {
      "needs_background": "light"
     },
     "output_type": "display_data"
    },
    {
     "name": "stdout",
     "output_type": "stream",
     "text": [
      "damage_grade                            High-Severe  Low-Medium\n",
      "has_superstructure_cement_mortar_stone                         \n",
      "0                                          99.03094    97.40395\n",
      "1                                           0.96906     2.59605\n",
      "\n"
     ]
    }
   ],
   "source": [
    "df[\"has_superstructure_cement_mortar_stone\"].value_counts().plot(kind='bar', title=\"has_superstructure_cement_mortar_stone\")\n",
    "plt.show()\n",
    "print(pd.crosstab(index=df[\"has_superstructure_cement_mortar_stone\"], columns=df['damage_grade']\n",
    "    ).apply(lambda r: r/r.sum() *100,axis=0))\n",
    "print('')"
   ]
  },
  {
   "cell_type": "code",
   "execution_count": 66,
   "metadata": {},
   "outputs": [
    {
     "data": {
      "image/png": "[encoded data removed]",
      "text/plain": [
       "<Figure size 432x288 with 1 Axes>"
      ]
     },
     "metadata": {
      "needs_background": "light"
     },
     "output_type": "display_data"
    },
    {
     "name": "stdout",
     "output_type": "stream",
     "text": [
      "damage_grade                         High-Severe  Low-Medium\n",
      "has_superstructure_mud_mortar_brick                         \n",
      "0                                      98.099657   96.930031\n",
      "1                                       1.900343    3.069969\n",
      "\n"
     ]
    }
   ],
   "source": [
    "df[\"has_superstructure_mud_mortar_brick\"].value_counts().plot(kind='bar', title=\"has_superstructure_mud_mortar_brick\")\n",
    "plt.show()\n",
    "print(pd.crosstab(index=df[\"has_superstructure_mud_mortar_brick\"], columns=df['damage_grade']\n",
    "    ).apply(lambda r: r/r.sum() *100,axis=0))\n",
    "print('')"
   ]
  },
  {
   "cell_type": "code",
   "execution_count": 67,
   "metadata": {},
   "outputs": [
    {
     "data": {
      "image/png": "[encoded data removed]",
      "text/plain": [
       "<Figure size 432x288 with 1 Axes>"
      ]
     },
     "metadata": {
      "needs_background": "light"
     },
     "output_type": "display_data"
    },
    {
     "name": "stdout",
     "output_type": "stream",
     "text": [
      "damage_grade                            High-Severe  Low-Medium\n",
      "has_superstructure_cement_mortar_brick                         \n",
      "0                                          98.87539   83.122119\n",
      "1                                           1.12461   16.877881\n",
      "\n"
     ]
    },
    {
     "data": {
      "text/plain": [
       "<seaborn.axisgrid.FacetGrid at 0x1a2802a0a08>"
      ]
     },
     "execution_count": 67,
     "metadata": {},
     "output_type": "execute_result"
    },
    {
     "data": {
      "image/png": "[encoded data removed]",
      "text/plain": [
       "<Figure size 575.5x360 with 1 Axes>"
      ]
     },
     "metadata": {
      "needs_background": "light"
     },
     "output_type": "display_data"
    }
   ],
   "source": [
    "df[\"has_superstructure_cement_mortar_brick\"].value_counts().plot(kind='bar', title=\"has_superstructure_cement_mortar_brick\")\n",
    "plt.show()\n",
    "print(pd.crosstab(index=df[\"has_superstructure_cement_mortar_brick\"], columns=df['damage_grade']\n",
    "    ).apply(lambda r: r/r.sum() *100,axis=0))\n",
    "print('')\n",
    "order = sorted(df[\"damage_grade\"].unique()) \n",
    "sns.catplot(x = \"damage_grade\", data = df, kind = \"count\", hue = \"has_superstructure_cement_mortar_brick\", order=order)"
   ]
  },
  {
   "cell_type": "code",
   "execution_count": 68,
   "metadata": {},
   "outputs": [
    {
     "data": {
      "image/png": "[encoded data removed]",
      "text/plain": [
       "<Figure size 432x288 with 1 Axes>"
      ]
     },
     "metadata": {
      "needs_background": "light"
     },
     "output_type": "display_data"
    },
    {
     "name": "stdout",
     "output_type": "stream",
     "text": [
      "damage_grade               High-Severe  Low-Medium\n",
      "has_superstructure_timber                         \n",
      "0                            77.953642   69.329964\n",
      "1                            22.046358   30.670036\n",
      "\n"
     ]
    }
   ],
   "source": [
    "df[\"has_superstructure_timber\"].value_counts().plot(kind='bar', title=\"has_superstructure_timber\")\n",
    "plt.show()\n",
    "print(pd.crosstab(index=df[\"has_superstructure_timber\"], columns=df['damage_grade']\n",
    "    ).apply(lambda r: r/r.sum() *100,axis=0))\n",
    "print('')"
   ]
  },
  {
   "cell_type": "code",
   "execution_count": 69,
   "metadata": {},
   "outputs": [
    {
     "data": {
      "image/png": "[encoded data removed]",
      "text/plain": [
       "<Figure size 432x288 with 1 Axes>"
      ]
     },
     "metadata": {
      "needs_background": "light"
     },
     "output_type": "display_data"
    },
    {
     "name": "stdout",
     "output_type": "stream",
     "text": [
      "damage_grade               High-Severe  Low-Medium\n",
      "has_superstructure_bamboo                         \n",
      "0                            94.320184   88.794009\n",
      "1                             5.679816   11.205991\n",
      "\n"
     ]
    }
   ],
   "source": [
    "df[\"has_superstructure_bamboo\"].value_counts().plot(kind='bar', title=\"has_superstructure_bamboo\")\n",
    "plt.show()\n",
    "print(pd.crosstab(index=df[\"has_superstructure_bamboo\"], columns=df['damage_grade']\n",
    "    ).apply(lambda r: r/r.sum() *100,axis=0))\n",
    "print('')"
   ]
  },
  {
   "cell_type": "code",
   "execution_count": 70,
   "metadata": {},
   "outputs": [
    {
     "data": {
      "image/png": "[encoded data removed]",
      "text/plain": [
       "<Figure size 432x288 with 1 Axes>"
      ]
     },
     "metadata": {
      "needs_background": "light"
     },
     "output_type": "display_data"
    },
    {
     "name": "stdout",
     "output_type": "stream",
     "text": [
      "damage_grade                          High-Severe  Low-Medium\n",
      "has_superstructure_rc_non_engineered                         \n",
      "0                                       98.687315   91.278222\n",
      "1                                        1.312685    8.721778\n",
      "\n"
     ]
    }
   ],
   "source": [
    "df[\"has_superstructure_rc_non_engineered\"].value_counts().plot(kind='bar', title=\"has_superstructure_rc_non_engineered\")\n",
    "plt.show()\n",
    "print(pd.crosstab(index=df[\"has_superstructure_rc_non_engineered\"], columns=df['damage_grade']\n",
    "    ).apply(lambda r: r/r.sum() *100,axis=0))\n",
    "print('')"
   ]
  },
  {
   "cell_type": "code",
   "execution_count": 71,
   "metadata": {},
   "outputs": [
    {
     "data": {
      "image/png": "[encoded data removed]",
      "text/plain": [
       "<Figure size 432x288 with 1 Axes>"
      ]
     },
     "metadata": {
      "needs_background": "light"
     },
     "output_type": "display_data"
    },
    {
     "name": "stdout",
     "output_type": "stream",
     "text": [
      "damage_grade                      High-Severe  Low-Medium\n",
      "has_superstructure_rc_engineered                         \n",
      "0                                   99.943638   95.517851\n",
      "1                                    0.056362    4.482149\n",
      "\n"
     ]
    }
   ],
   "source": [
    "df[\"has_superstructure_rc_engineered\"].value_counts().plot(kind='bar', title=\"has_superstructure_rc_engineered\")\n",
    "plt.show()\n",
    "print(pd.crosstab(index=df[\"has_superstructure_rc_engineered\"], columns=df['damage_grade']\n",
    "    ).apply(lambda r: r/r.sum() *100,axis=0))\n",
    "print('')"
   ]
  },
  {
   "cell_type": "code",
   "execution_count": 72,
   "metadata": {},
   "outputs": [
    {
     "data": {
      "image/png": "[encoded data removed]",
      "text/plain": [
       "<Figure size 432x288 with 1 Axes>"
      ]
     },
     "metadata": {
      "needs_background": "light"
     },
     "output_type": "display_data"
    },
    {
     "name": "stdout",
     "output_type": "stream",
     "text": [
      "damage_grade              High-Severe  Low-Medium\n",
      "has_superstructure_other                         \n",
      "0                           99.126291   98.295251\n",
      "1                            0.873709    1.704749\n",
      "\n"
     ]
    }
   ],
   "source": [
    "df[\"has_superstructure_other\"].value_counts().plot(kind='bar', title=\"has_superstructure_other\")\n",
    "plt.show()\n",
    "print(pd.crosstab(index=df[\"has_superstructure_other\"], columns=df['damage_grade']\n",
    "    ).apply(lambda r: r/r.sum() *100,axis=0))\n",
    "print('')"
   ]
  },
  {
   "cell_type": "markdown",
   "metadata": {},
   "source": [
    "## Variables Numéricas"
   ]
  },
  {
   "cell_type": "code",
   "execution_count": 73,
   "metadata": {},
   "outputs": [],
   "source": [
    "df_no_bool = df_numerical.loc[:,df_numerical.nunique()!=2]"
   ]
  },
  {
   "cell_type": "code",
   "execution_count": 74,
   "metadata": {},
   "outputs": [
    {
     "data": {
      "text/plain": [
       "building_id            int64\n",
       "ward_id                int64\n",
       "count_floors_pre_eq    int64\n",
       "age_building           int64\n",
       "plinth_area_sq_ft      int64\n",
       "height_ft_pre_eq       int64\n",
       "count_families         int64\n",
       "age_household_head     int64\n",
       "size_household         int64\n",
       "dtype: object"
      ]
     },
     "execution_count": 74,
     "metadata": {},
     "output_type": "execute_result"
    }
   ],
   "source": [
    "df_no_bool.dtypes"
   ]
  },
  {
   "cell_type": "markdown",
   "metadata": {},
   "source": [
    "## Transformaciones"
   ]
  },
  {
   "cell_type": "markdown",
   "metadata": {},
   "source": [
    "### Age building: LOG"
   ]
  },
  {
   "cell_type": "code",
   "execution_count": 75,
   "metadata": {},
   "outputs": [
    {
     "data": {
      "image/png": "[encoded data removed]",
      "text/plain": [
       "<Figure size 720x360 with 2 Axes>"
      ]
     },
     "metadata": {
      "needs_background": "light"
     },
     "output_type": "display_data"
    },
    {
     "data": {
      "image/png": "[encoded data removed]",
      "text/plain": [
       "<Figure size 720x360 with 2 Axes>"
      ]
     },
     "metadata": {
      "needs_background": "light"
     },
     "output_type": "display_data"
    }
   ],
   "source": [
    "var = \"age_building\"\n",
    "\n",
    "df_no_bool [var + '_LOG'] = np.log(1 + df_no_bool[var])\n",
    "plt.figure(figsize=(10,5))\n",
    "plt.subplot(1,2,1)\n",
    "df_no_bool[var].hist()\n",
    "plt.title('Histograma de ' + var)\n",
    "plt.subplot(1,2,2)\n",
    "df_no_bool[var + '_LOG'] .hist()\n",
    "plt.title('Histograma del LOG de ' + var)\n",
    "plt.show()\n",
    "\n",
    "df_no_bool[var + '_LOG'] = np.log(1 + df_no_bool[var])\n",
    "plt.figure(figsize=(10,5))\n",
    "plt.subplot(1,2,1)\n",
    "df_no_bool.boxplot(var)\n",
    "plt.title('Boxplot de ' + var)\n",
    "plt.subplot(1,2,2)\n",
    "df_no_bool.boxplot(var + '_LOG')\n",
    "plt.title('boxplot del LOG de ' + var)\n",
    "plt.show()"
   ]
  },
  {
   "cell_type": "markdown",
   "metadata": {},
   "source": [
    "### Count Floors"
   ]
  },
  {
   "cell_type": "code",
   "execution_count": 76,
   "metadata": {
    "scrolled": false
   },
   "outputs": [
    {
     "data": {
      "image/png": "[encoded data removed]",
      "text/plain": [
       "<Figure size 720x360 with 2 Axes>"
      ]
     },
     "metadata": {
      "needs_background": "light"
     },
     "output_type": "display_data"
    },
    {
     "data": {
      "image/png": "[encoded data removed]",
      "text/plain": [
       "<Figure size 720x360 with 2 Axes>"
      ]
     },
     "metadata": {
      "needs_background": "light"
     },
     "output_type": "display_data"
    }
   ],
   "source": [
    "var = \"count_floors_pre_eq\" \n",
    "\n",
    "df_no_bool [var + '_LOG'] = np.log(1 + df_no_bool[var])\n",
    "plt.figure(figsize=(10,5))\n",
    "plt.subplot(1,2,1)\n",
    "df_no_bool[var].hist()\n",
    "plt.title('Histograma de ' + var)\n",
    "plt.subplot(1,2,2)\n",
    "df_no_bool[var + '_LOG'] .hist()\n",
    "plt.title('Histograma del LOG de ' + var)\n",
    "plt.show()\n",
    "\n",
    "\n",
    "df_no_bool[var + '_LOG'] = np.log(1 + df_no_bool[var])\n",
    "plt.figure(figsize=(10,5))\n",
    "plt.subplot(1,2,1)\n",
    "df_no_bool.boxplot(var)\n",
    "plt.title('Boxplot de ' + var)\n",
    "plt.subplot(1,2,2)\n",
    "df_no_bool.boxplot(var + '_LOG')\n",
    "plt.title('boxplot del LOG de ' + var)\n",
    "plt.show()"
   ]
  },
  {
   "cell_type": "markdown",
   "metadata": {},
   "source": [
    "### Height: LOG"
   ]
  },
  {
   "cell_type": "code",
   "execution_count": 77,
   "metadata": {
    "scrolled": false
   },
   "outputs": [
    {
     "data": {
      "image/png": "[encoded data removed]",
      "text/plain": [
       "<Figure size 720x360 with 2 Axes>"
      ]
     },
     "metadata": {
      "needs_background": "light"
     },
     "output_type": "display_data"
    },
    {
     "data": {
      "image/png": "[encoded data removed]",
      "text/plain": [
       "<Figure size 720x360 with 2 Axes>"
      ]
     },
     "metadata": {
      "needs_background": "light"
     },
     "output_type": "display_data"
    }
   ],
   "source": [
    "var = \"height_ft_pre_eq\"\n",
    "\n",
    "df_no_bool [var + '_LOG'] = np.log(1 + df_no_bool[var])\n",
    "plt.figure(figsize=(10,5))\n",
    "plt.subplot(1,2,1)\n",
    "df_no_bool[var].hist()\n",
    "plt.title('Histograma de ' + var)\n",
    "plt.subplot(1,2,2)\n",
    "df_no_bool[var + '_LOG'] .hist()\n",
    "plt.title('Histograma del LOG de ' + var)\n",
    "plt.show()\n",
    "\n",
    "\n",
    "df_no_bool[var + '_LOG'] = np.log(1 + df_no_bool[var])\n",
    "plt.figure(figsize=(10,5))\n",
    "plt.subplot(1,2,1)\n",
    "df_no_bool.boxplot(var)\n",
    "plt.title('Boxplot de ' + var)\n",
    "plt.subplot(1,2,2)\n",
    "df_no_bool.boxplot(var + '_LOG')\n",
    "plt.title('boxplot del LOG de ' + var)\n",
    "plt.show()"
   ]
  },
  {
   "cell_type": "markdown",
   "metadata": {},
   "source": [
    "### Plinth Area: LOG"
   ]
  },
  {
   "cell_type": "code",
   "execution_count": 78,
   "metadata": {
    "scrolled": true
   },
   "outputs": [
    {
     "data": {
      "image/png": "[encoded data removed]",
      "text/plain": [
       "<Figure size 720x360 with 2 Axes>"
      ]
     },
     "metadata": {
      "needs_background": "light"
     },
     "output_type": "display_data"
    },
    {
     "data": {
      "image/png": "[encoded data removed]",
      "text/plain": [
       "<Figure size 720x360 with 2 Axes>"
      ]
     },
     "metadata": {
      "needs_background": "light"
     },
     "output_type": "display_data"
    }
   ],
   "source": [
    "var = \"plinth_area_sq_ft\" \n",
    "\n",
    "df_no_bool [var + '_LOG'] = np.log(1 + df_no_bool[var])\n",
    "plt.figure(figsize=(10,5))\n",
    "plt.subplot(1,2,1)\n",
    "df_no_bool[var].hist()\n",
    "plt.title('Histograma de ' + var)\n",
    "plt.subplot(1,2,2)\n",
    "df_no_bool[var + '_LOG'] .hist()\n",
    "plt.title('Histograma del LOG de ' + var)\n",
    "plt.show()\n",
    "\n",
    "\n",
    "df_no_bool[var + '_LOG'] = np.log(1 + df_no_bool[var])\n",
    "plt.figure(figsize=(10,5))\n",
    "plt.subplot(1,2,1)\n",
    "df_no_bool.boxplot(var)\n",
    "plt.title('Boxplot de ' + var)\n",
    "plt.subplot(1,2,2)\n",
    "df_no_bool.boxplot(var + '_LOG')\n",
    "plt.title('boxplot del LOG de ' + var)\n",
    "plt.show()"
   ]
  },
  {
   "cell_type": "markdown",
   "metadata": {},
   "source": [
    "### Age Household head"
   ]
  },
  {
   "cell_type": "code",
   "execution_count": 79,
   "metadata": {},
   "outputs": [
    {
     "data": {
      "image/png": "[encoded data removed]",
      "text/plain": [
       "<Figure size 720x360 with 2 Axes>"
      ]
     },
     "metadata": {
      "needs_background": "light"
     },
     "output_type": "display_data"
    },
    {
     "data": {
      "image/png": "[encoded data removed]",
      "text/plain": [
       "<Figure size 720x360 with 2 Axes>"
      ]
     },
     "metadata": {
      "needs_background": "light"
     },
     "output_type": "display_data"
    }
   ],
   "source": [
    "var = \"age_household_head\"\n",
    "\n",
    "df_no_bool [var + '_LOG'] = np.log(1 + df_no_bool[var])\n",
    "plt.figure(figsize=(10,5))\n",
    "plt.subplot(1,2,1)\n",
    "df_no_bool[var].hist()\n",
    "plt.title('Histograma de ' + var)\n",
    "plt.subplot(1,2,2)\n",
    "df_no_bool[var + '_LOG'] .hist()\n",
    "plt.title('Histograma del LOG de ' + var)\n",
    "plt.show()\n",
    "\n",
    "\n",
    "df_no_bool[var + '_LOG'] = np.log(1 + df_no_bool[var])\n",
    "plt.figure(figsize=(10,5))\n",
    "plt.subplot(1,2,1)\n",
    "df_no_bool.boxplot(var)\n",
    "plt.title('Boxplot de ' + var)\n",
    "plt.subplot(1,2,2)\n",
    "df_no_bool.boxplot(var + '_LOG')\n",
    "plt.title('boxplot del LOG de ' + var)\n",
    "plt.show()"
   ]
  },
  {
   "cell_type": "markdown",
   "metadata": {},
   "source": [
    "### Count Families"
   ]
  },
  {
   "cell_type": "code",
   "execution_count": 80,
   "metadata": {},
   "outputs": [
    {
     "data": {
      "image/png": "[encoded data removed]",
      "text/plain": [
       "<Figure size 720x360 with 2 Axes>"
      ]
     },
     "metadata": {
      "needs_background": "light"
     },
     "output_type": "display_data"
    },
    {
     "data": {
      "image/png": "[encoded data removed]",
      "text/plain": [
       "<Figure size 720x360 with 2 Axes>"
      ]
     },
     "metadata": {
      "needs_background": "light"
     },
     "output_type": "display_data"
    }
   ],
   "source": [
    "var = \"count_families\" \n",
    "\n",
    "df_no_bool [var + '_LOG'] = np.log(1 + df_no_bool[var])\n",
    "plt.figure(figsize=(10,5))\n",
    "plt.subplot(1,2,1)\n",
    "df_no_bool[var].hist()\n",
    "plt.title('Histograma de ' + var)\n",
    "plt.subplot(1,2,2)\n",
    "df_no_bool[var + '_LOG'] .hist()\n",
    "plt.title('Histograma del LOG de ' + var)\n",
    "plt.show()\n",
    "\n",
    "\n",
    "df_no_bool[var + '_LOG'] = np.log(1 + df_no_bool[var])\n",
    "plt.figure(figsize=(10,5))\n",
    "plt.subplot(1,2,1)\n",
    "df_no_bool.boxplot(var)\n",
    "plt.title('Boxplot de ' + var)\n",
    "plt.subplot(1,2,2)\n",
    "df_no_bool.boxplot(var + '_LOG')\n",
    "plt.title('boxplot del LOG de ' + var)\n",
    "plt.show()"
   ]
  },
  {
   "cell_type": "markdown",
   "metadata": {},
   "source": [
    "### Size household: LOG"
   ]
  },
  {
   "cell_type": "code",
   "execution_count": 81,
   "metadata": {},
   "outputs": [
    {
     "data": {
      "image/png": "[encoded data removed]",
      "text/plain": [
       "<Figure size 720x360 with 2 Axes>"
      ]
     },
     "metadata": {
      "needs_background": "light"
     },
     "output_type": "display_data"
    },
    {
     "data": {
      "image/png": "[encoded data removed]",
      "text/plain": [
       "<Figure size 720x360 with 2 Axes>"
      ]
     },
     "metadata": {
      "needs_background": "light"
     },
     "output_type": "display_data"
    }
   ],
   "source": [
    "var = \"size_household\" \n",
    "\n",
    "\n",
    "df_no_bool [var + '_LOG'] = np.log(1 + df_no_bool[var])\n",
    "plt.figure(figsize=(10,5))\n",
    "plt.subplot(1,2,1)\n",
    "df_no_bool[var].hist()\n",
    "plt.title('Histograma de ' + var)\n",
    "plt.subplot(1,2,2)\n",
    "df_no_bool[var + '_LOG'] .hist()\n",
    "plt.title('Histograma del LOG de ' + var)\n",
    "plt.show()\n",
    "\n",
    "\n",
    "df_no_bool[var + '_LOG'] = np.log(1 + df_no_bool[var])\n",
    "plt.figure(figsize=(10,5))\n",
    "plt.subplot(1,2,1)\n",
    "df_no_bool.boxplot(var)\n",
    "plt.title('Boxplot de ' + var)\n",
    "plt.subplot(1,2,2)\n",
    "df_no_bool.boxplot(var + '_LOG')\n",
    "plt.title('boxplot del LOG de ' + var)\n",
    "plt.show()"
   ]
  },
  {
   "cell_type": "code",
   "execution_count": 82,
   "metadata": {},
   "outputs": [],
   "source": [
    "# Seleccionamos las variables a las que vamos a aplicar el LOG:\n",
    " # Age_building\n",
    " # Height\n",
    " # Plinth\n",
    " # Size household"
   ]
  },
  {
   "cell_type": "code",
   "execution_count": 83,
   "metadata": {},
   "outputs": [],
   "source": [
    "df[\"age_building\"] = np.log(1 + df[\"age_building\"])\n",
    "df[\"height_ft_pre_eq\"] = np.log(1 + df[\"height_ft_pre_eq\"])\n",
    "df[\"plinth_area_sq_ft\"] = np.log(1 + df[\"plinth_area_sq_ft\"])\n",
    "df[\"size_household\"] = np.log(1 + df[\"size_household\"])"
   ]
  },
  {
   "cell_type": "code",
   "execution_count": 84,
   "metadata": {},
   "outputs": [],
   "source": [
    "# RESUMEN:\n",
    "# Daños bajos: menos plantas, edificios mas nuevos, bases mas grandes, edificios más bajos\n",
    "# Age_household_head / Count Families / Size household: no parece que afecte"
   ]
  },
  {
   "cell_type": "code",
   "execution_count": 85,
   "metadata": {},
   "outputs": [
    {
     "data": {
      "text/plain": [
       "<matplotlib.axes._subplots.AxesSubplot at 0x1a280155388>"
      ]
     },
     "execution_count": 85,
     "metadata": {},
     "output_type": "execute_result"
    },
    {
     "data": {
      "image/png": "[encoded data removed]",
      "text/plain": [
       "<Figure size 432x288 with 1 Axes>"
      ]
     },
     "metadata": {
      "needs_background": "light"
     },
     "output_type": "display_data"
    }
   ],
   "source": [
    "sns.boxplot(x=\"damage_grade\", y=\"count_floors_pre_eq\", data=df)"
   ]
  },
  {
   "cell_type": "code",
   "execution_count": 86,
   "metadata": {},
   "outputs": [
    {
     "data": {
      "text/plain": [
       "<matplotlib.axes._subplots.AxesSubplot at 0x1a2c645a288>"
      ]
     },
     "execution_count": 86,
     "metadata": {},
     "output_type": "execute_result"
    },
    {
     "data": {
      "image/png": "[encoded data removed]",
      "text/plain": [
       "<Figure size 432x288 with 1 Axes>"
      ]
     },
     "metadata": {
      "needs_background": "light"
     },
     "output_type": "display_data"
    }
   ],
   "source": [
    "sns.boxplot(x=\"damage_grade\", y=\"age_building\", data=df)"
   ]
  },
  {
   "cell_type": "code",
   "execution_count": 87,
   "metadata": {},
   "outputs": [
    {
     "data": {
      "text/plain": [
       "<matplotlib.axes._subplots.AxesSubplot at 0x1a2c6461548>"
      ]
     },
     "execution_count": 87,
     "metadata": {},
     "output_type": "execute_result"
    },
    {
     "data": {
      "image/png": "[encoded data removed]",
      "text/plain": [
       "<Figure size 432x288 with 1 Axes>"
      ]
     },
     "metadata": {
      "needs_background": "light"
     },
     "output_type": "display_data"
    }
   ],
   "source": [
    "sns.boxplot(x=\"damage_grade\", y=\"plinth_area_sq_ft\", data=df)"
   ]
  },
  {
   "cell_type": "code",
   "execution_count": 88,
   "metadata": {},
   "outputs": [
    {
     "data": {
      "text/plain": [
       "<matplotlib.axes._subplots.AxesSubplot at 0x1a2c8603108>"
      ]
     },
     "execution_count": 88,
     "metadata": {},
     "output_type": "execute_result"
    },
    {
     "data": {
      "image/png": "[encoded data removed]",
      "text/plain": [
       "<Figure size 432x288 with 1 Axes>"
      ]
     },
     "metadata": {
      "needs_background": "light"
     },
     "output_type": "display_data"
    }
   ],
   "source": [
    "sns.boxplot(x=\"damage_grade\", y=\"height_ft_pre_eq\", data=df)"
   ]
  },
  {
   "cell_type": "code",
   "execution_count": 89,
   "metadata": {},
   "outputs": [
    {
     "data": {
      "text/plain": [
       "<matplotlib.axes._subplots.AxesSubplot at 0x1a2c8628c08>"
      ]
     },
     "execution_count": 89,
     "metadata": {},
     "output_type": "execute_result"
    },
    {
     "data": {
      "image/png": "[encoded data removed]",
      "text/plain": [
       "<Figure size 432x288 with 1 Axes>"
      ]
     },
     "metadata": {
      "needs_background": "light"
     },
     "output_type": "display_data"
    }
   ],
   "source": [
    "sns.boxplot(x=\"damage_grade\", y=\"count_families\", data=df)"
   ]
  },
  {
   "cell_type": "code",
   "execution_count": 90,
   "metadata": {},
   "outputs": [
    {
     "data": {
      "text/plain": [
       "<matplotlib.axes._subplots.AxesSubplot at 0x1a280347e48>"
      ]
     },
     "execution_count": 90,
     "metadata": {},
     "output_type": "execute_result"
    },
    {
     "data": {
      "image/png": "[encoded data removed]",
      "text/plain": [
       "<Figure size 432x288 with 1 Axes>"
      ]
     },
     "metadata": {
      "needs_background": "light"
     },
     "output_type": "display_data"
    }
   ],
   "source": [
    "sns.boxplot(x=\"damage_grade\", y=\"age_household_head\", data=df)"
   ]
  },
  {
   "cell_type": "code",
   "execution_count": 91,
   "metadata": {},
   "outputs": [
    {
     "data": {
      "text/plain": [
       "<matplotlib.axes._subplots.AxesSubplot at 0x1a2a3554748>"
      ]
     },
     "execution_count": 91,
     "metadata": {},
     "output_type": "execute_result"
    },
    {
     "data": {
      "image/png": "[encoded data removed]",
      "text/plain": [
       "<Figure size 432x288 with 1 Axes>"
      ]
     },
     "metadata": {
      "needs_background": "light"
     },
     "output_type": "display_data"
    }
   ],
   "source": [
    "sns.boxplot(x=\"damage_grade\", y=\"size_household\", data=df)"
   ]
  },
  {
   "cell_type": "markdown",
   "metadata": {},
   "source": [
    "# Contraste Chi2 en variables categóricas"
   ]
  },
  {
   "cell_type": "markdown",
   "metadata": {},
   "source": [
    "Como hay muchos datos, siempre encontrará alguna relación, asi que el contraste nos dará no rechazar la independencia"
   ]
  },
  {
   "cell_type": "code",
   "execution_count": 92,
   "metadata": {},
   "outputs": [
    {
     "data": {
      "text/plain": [
       "building_id                                 int64\n",
       "ward_id                                     int64\n",
       "count_floors_pre_eq                         int64\n",
       "age_building                              float64\n",
       "plinth_area_sq_ft                         float64\n",
       "height_ft_pre_eq                          float64\n",
       "land_surface_condition                     object\n",
       "foundation_type                            object\n",
       "roof_type                                  object\n",
       "ground_floor_type                          object\n",
       "other_floor_type                           object\n",
       "position                                   object\n",
       "plan_configuration                         object\n",
       "has_superstructure_adobe_mud                int64\n",
       "has_superstructure_mud_mortar_stone         int64\n",
       "has_superstructure_stone_flag               int64\n",
       "has_superstructure_cement_mortar_stone      int64\n",
       "has_superstructure_mud_mortar_brick         int64\n",
       "has_superstructure_cement_mortar_brick      int64\n",
       "has_superstructure_timber                   int64\n",
       "has_superstructure_bamboo                   int64\n",
       "has_superstructure_rc_non_engineered        int64\n",
       "has_superstructure_rc_engineered            int64\n",
       "has_superstructure_other                    int64\n",
       "damage_grade                               object\n",
       "legal_ownership_status                     object\n",
       "count_families                              int64\n",
       "has_secondary_use                           int64\n",
       "gender_household_head                      object\n",
       "age_household_head                          int64\n",
       "caste_household                            object\n",
       "education_level_household_head             object\n",
       "income_level_household                     object\n",
       "size_household                            float64\n",
       "is_bank_account_present_in_household        int64\n",
       "dtype: object"
      ]
     },
     "execution_count": 92,
     "metadata": {},
     "output_type": "execute_result"
    }
   ],
   "source": [
    "df.dtypes"
   ]
  },
  {
   "cell_type": "code",
   "execution_count": 93,
   "metadata": {},
   "outputs": [
    {
     "name": "stdout",
     "output_type": "stream",
     "text": [
      "Variable land_surface_condition :\n",
      "p value is 3.0255697024777763e-45\n",
      "Dependent (reject H0)\n",
      "\n",
      "Variable foundation_type :\n",
      "p value is 0.0\n",
      "Dependent (reject H0)\n",
      "\n",
      "Variable roof_type :\n",
      "p value is 0.0\n",
      "Dependent (reject H0)\n",
      "\n",
      "Variable ground_floor_type :\n",
      "p value is 0.0\n",
      "Dependent (reject H0)\n",
      "\n",
      "Variable other_floor_type :\n",
      "p value is 0.0\n",
      "Dependent (reject H0)\n",
      "\n",
      "Variable position :\n",
      "p value is 0.0\n",
      "Dependent (reject H0)\n",
      "\n",
      "Variable plan_configuration :\n",
      "p value is 0.0\n",
      "Dependent (reject H0)\n",
      "\n",
      "Variable damage_grade :\n",
      "p value is 0.0\n",
      "Dependent (reject H0)\n",
      "\n",
      "Variable legal_ownership_status :\n",
      "p value is 0.0\n",
      "Dependent (reject H0)\n",
      "\n",
      "Variable gender_household_head :\n",
      "p value is 0.0\n",
      "Dependent (reject H0)\n",
      "\n",
      "Variable caste_household :\n",
      "p value is 0.0\n",
      "Dependent (reject H0)\n",
      "\n",
      "Variable education_level_household_head :\n",
      "p value is 0.0\n",
      "Dependent (reject H0)\n",
      "\n",
      "Variable income_level_household :\n",
      "p value is 0.0\n",
      "Dependent (reject H0)\n",
      "\n"
     ]
    }
   ],
   "source": [
    "from scipy.stats import chi2_contingency\n",
    "\n",
    "for i,var in enumerate(df.describe(include='object')):\n",
    "\n",
    "    observados = pd.crosstab(index=df[var],columns=df['damage_grade'], margins= True)\n",
    "    stat, p, dof, expected= chi2_contingency(observados)   \n",
    " \n",
    "    \n",
    "    print('Variable', var, ':')\n",
    "    alpha = 0.05\n",
    "    print(\"p value is \"   + str(p))  \n",
    "    if p <= alpha: \n",
    "        print('Dependent (reject H0)') \n",
    "    else: \n",
    "        print('Independent (H0 holds true)') \n",
    "    print('')"
   ]
  },
  {
   "cell_type": "markdown",
   "metadata": {},
   "source": [
    "# Contraste Chi2 en booleanas"
   ]
  },
  {
   "cell_type": "code",
   "execution_count": 94,
   "metadata": {},
   "outputs": [],
   "source": [
    "df_numerical = df.select_dtypes(include=[np.number])\n",
    "df_bool= df_numerical.loc[:,df_numerical.nunique()==2]"
   ]
  },
  {
   "cell_type": "code",
   "execution_count": 95,
   "metadata": {},
   "outputs": [
    {
     "name": "stdout",
     "output_type": "stream",
     "text": [
      "Variable has_superstructure_adobe_mud :\n",
      "p value is 0.011659856518696358\n",
      "Dependent (reject H0)\n",
      "\n",
      "Variable has_superstructure_mud_mortar_stone :\n",
      "p value is 0.0\n",
      "Dependent (reject H0)\n",
      "\n",
      "Variable has_superstructure_stone_flag :\n",
      "p value is 0.0\n",
      "Dependent (reject H0)\n",
      "\n",
      "Variable has_superstructure_cement_mortar_stone :\n",
      "p value is 0.0\n",
      "Dependent (reject H0)\n",
      "\n",
      "Variable has_superstructure_mud_mortar_brick :\n",
      "p value is 5.605576233134435e-250\n",
      "Dependent (reject H0)\n",
      "\n",
      "Variable has_superstructure_cement_mortar_brick :\n",
      "p value is 0.0\n",
      "Dependent (reject H0)\n",
      "\n",
      "Variable has_superstructure_timber :\n",
      "p value is 0.0\n",
      "Dependent (reject H0)\n",
      "\n",
      "Variable has_superstructure_bamboo :\n",
      "p value is 0.0\n",
      "Dependent (reject H0)\n",
      "\n",
      "Variable has_superstructure_rc_non_engineered :\n",
      "p value is 0.0\n",
      "Dependent (reject H0)\n",
      "\n",
      "Variable has_superstructure_rc_engineered :\n",
      "p value is 0.0\n",
      "Dependent (reject H0)\n",
      "\n",
      "Variable has_superstructure_other :\n",
      "p value is 4.578671783301148e-245\n",
      "Dependent (reject H0)\n",
      "\n",
      "Variable has_secondary_use :\n",
      "p value is 0.0\n",
      "Dependent (reject H0)\n",
      "\n",
      "Variable is_bank_account_present_in_household :\n",
      "p value is 1.6059718149004094e-64\n",
      "Dependent (reject H0)\n",
      "\n"
     ]
    }
   ],
   "source": [
    "#https://es.linkedin.com/learning/python-para-data-science-y-big-data-esencial/test-de-la-chi-cuadrado\n",
    "\n",
    "from scipy.stats import chi2_contingency\n",
    "\n",
    "for i,var in enumerate(df_bool):\n",
    "\n",
    "    observados = pd.crosstab(index=df_bool[var],columns=df['damage_grade'], margins= True)\n",
    "    stat, p, dof, expected= chi2_contingency(observados)   \n",
    " \n",
    "    \n",
    "    print('Variable', var, ':')\n",
    "    alpha = 0.05\n",
    "    print(\"p value is \"   + str(p))  \n",
    "    if p <= alpha: \n",
    "        print('Dependent (reject H0)') \n",
    "    else: \n",
    "        print('Independent (H0 holds true)') \n",
    "    print('')"
   ]
  },
  {
   "cell_type": "code",
   "execution_count": 96,
   "metadata": {},
   "outputs": [],
   "source": [
    "df.to_csv(\"./Data/paso_2_agrupaciones_con_building_id.csv\")"
   ]
  },
  {
   "cell_type": "code",
   "execution_count": 97,
   "metadata": {},
   "outputs": [],
   "source": [
    "df_paso2=pd.read_csv(\"./Data/paso_2_agrupaciones_con_building_id.csv\", sep=',')"
   ]
  },
  {
   "cell_type": "code",
   "execution_count": 98,
   "metadata": {},
   "outputs": [
    {
     "data": {
      "text/plain": [
       "Unnamed: 0                                  int64\n",
       "building_id                                 int64\n",
       "ward_id                                     int64\n",
       "count_floors_pre_eq                         int64\n",
       "age_building                              float64\n",
       "plinth_area_sq_ft                         float64\n",
       "height_ft_pre_eq                          float64\n",
       "land_surface_condition                     object\n",
       "foundation_type                            object\n",
       "roof_type                                  object\n",
       "ground_floor_type                          object\n",
       "other_floor_type                           object\n",
       "position                                   object\n",
       "plan_configuration                         object\n",
       "has_superstructure_adobe_mud                int64\n",
       "has_superstructure_mud_mortar_stone         int64\n",
       "has_superstructure_stone_flag               int64\n",
       "has_superstructure_cement_mortar_stone      int64\n",
       "has_superstructure_mud_mortar_brick         int64\n",
       "has_superstructure_cement_mortar_brick      int64\n",
       "has_superstructure_timber                   int64\n",
       "has_superstructure_bamboo                   int64\n",
       "has_superstructure_rc_non_engineered        int64\n",
       "has_superstructure_rc_engineered            int64\n",
       "has_superstructure_other                    int64\n",
       "damage_grade                               object\n",
       "legal_ownership_status                     object\n",
       "count_families                              int64\n",
       "has_secondary_use                           int64\n",
       "gender_household_head                      object\n",
       "age_household_head                          int64\n",
       "caste_household                            object\n",
       "education_level_household_head             object\n",
       "income_level_household                     object\n",
       "size_household                            float64\n",
       "is_bank_account_present_in_household        int64\n",
       "dtype: object"
      ]
     },
     "execution_count": 98,
     "metadata": {},
     "output_type": "execute_result"
    }
   ],
   "source": [
    "df_paso2.dtypes"
   ]
  },
  {
   "cell_type": "code",
   "execution_count": 99,
   "metadata": {},
   "outputs": [
    {
     "data": {
      "text/plain": [
       "(818700, 36)"
      ]
     },
     "execution_count": 99,
     "metadata": {},
     "output_type": "execute_result"
    }
   ],
   "source": [
    "df_paso2.shape"
   ]
  }
 ],
 "metadata": {
  "kernelspec": {
   "display_name": "Python 3",
   "language": "python",
   "name": "python3"
  },
  "language_info": {
   "codemirror_mode": {
    "name": "ipython",
    "version": 3
   },
   "file_extension": ".py",
   "mimetype": "text/x-python",
   "name": "python",
   "nbconvert_exporter": "python",
   "pygments_lexer": "ipython3",
   "version": "3.7.5"
  }
 },
 "nbformat": 4,
 "nbformat_minor": 2
}
